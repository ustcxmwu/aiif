{
 "cells": [
  {
   "cell_type": "markdown",
   "metadata": {},
   "source": [
    "<img src='http://hilpisch.com/taim_logo.png' width=\"350px\" align=\"right\">"
   ]
  },
  {
   "cell_type": "markdown",
   "metadata": {},
   "source": [
    "# Artificial Intelligence in Finance"
   ]
  },
  {
   "cell_type": "markdown",
   "metadata": {},
   "source": [
    "## Normative Finance"
   ]
  },
  {
   "cell_type": "markdown",
   "metadata": {},
   "source": [
    "Dr Yves J Hilpisch | The AI Machine\n",
    "\n",
    "http://aimachine.io | http://twitter.com/dyjh"
   ]
  },
  {
   "cell_type": "markdown",
   "metadata": {},
   "source": [
    "## Uncertainty and Risk"
   ]
  },
  {
   "cell_type": "code",
   "metadata": {
    "ExecuteTime": {
     "end_time": "2024-05-27T06:49:13.989261Z",
     "start_time": "2024-05-27T06:49:13.885237Z"
    }
   },
   "source": [
    "import numpy as np"
   ],
   "outputs": [],
   "execution_count": 1
  },
  {
   "cell_type": "code",
   "metadata": {
    "ExecuteTime": {
     "end_time": "2024-05-27T06:49:14.666509Z",
     "start_time": "2024-05-27T06:49:14.664099Z"
    }
   },
   "source": [
    "S0 = 10\n",
    "B0 = 10"
   ],
   "outputs": [],
   "execution_count": 2
  },
  {
   "cell_type": "code",
   "metadata": {
    "ExecuteTime": {
     "end_time": "2024-05-27T06:49:15.363214Z",
     "start_time": "2024-05-27T06:49:15.360943Z"
    }
   },
   "source": [
    "S1 = np.array((20, 5))\n",
    "B1 = np.array((11, 11))"
   ],
   "outputs": [],
   "execution_count": 3
  },
  {
   "cell_type": "code",
   "metadata": {
    "ExecuteTime": {
     "end_time": "2024-05-27T06:49:16.318094Z",
     "start_time": "2024-05-27T06:49:16.313069Z"
    }
   },
   "source": [
    "M0 = np.array((S0, B0))\n",
    "M0"
   ],
   "outputs": [
    {
     "data": {
      "text/plain": [
       "array([10, 10])"
      ]
     },
     "execution_count": 4,
     "metadata": {},
     "output_type": "execute_result"
    }
   ],
   "execution_count": 4
  },
  {
   "cell_type": "code",
   "metadata": {
    "ExecuteTime": {
     "end_time": "2024-05-27T06:49:16.882734Z",
     "start_time": "2024-05-27T06:49:16.879279Z"
    }
   },
   "source": [
    "M1 = np.array((S1, B1)).T\n",
    "M1"
   ],
   "outputs": [
    {
     "data": {
      "text/plain": [
       "array([[20, 11],\n",
       "       [ 5, 11]])"
      ]
     },
     "execution_count": 5,
     "metadata": {},
     "output_type": "execute_result"
    }
   ],
   "execution_count": 5
  },
  {
   "cell_type": "code",
   "metadata": {
    "ExecuteTime": {
     "end_time": "2024-05-27T06:49:33.865332Z",
     "start_time": "2024-05-27T06:49:33.861004Z"
    }
   },
   "source": [
    "K = 14.5"
   ],
   "outputs": [],
   "execution_count": 6
  },
  {
   "cell_type": "code",
   "metadata": {
    "ExecuteTime": {
     "end_time": "2024-05-27T06:49:34.903624Z",
     "start_time": "2024-05-27T06:49:34.899129Z"
    }
   },
   "source": [
    "C1 = np.maximum(S1 - K, 0)\n",
    "C1"
   ],
   "outputs": [
    {
     "data": {
      "text/plain": [
       "array([5.5, 0. ])"
      ]
     },
     "execution_count": 7,
     "metadata": {},
     "output_type": "execute_result"
    }
   ],
   "execution_count": 7
  },
  {
   "cell_type": "code",
   "metadata": {
    "ExecuteTime": {
     "end_time": "2024-05-27T06:49:35.663935Z",
     "start_time": "2024-05-27T06:49:35.660225Z"
    }
   },
   "source": [
    "phi = np.linalg.solve(M1, C1)\n",
    "phi"
   ],
   "outputs": [
    {
     "data": {
      "text/plain": [
       "array([ 0.36666667, -0.16666667])"
      ]
     },
     "execution_count": 8,
     "metadata": {},
     "output_type": "execute_result"
    }
   ],
   "execution_count": 8
  },
  {
   "cell_type": "code",
   "metadata": {
    "ExecuteTime": {
     "end_time": "2024-05-27T06:49:36.243801Z",
     "start_time": "2024-05-27T06:49:36.240108Z"
    }
   },
   "source": [
    "np.allclose(C1, np.dot(M1, phi))"
   ],
   "outputs": [
    {
     "data": {
      "text/plain": [
       "True"
      ]
     },
     "execution_count": 9,
     "metadata": {},
     "output_type": "execute_result"
    }
   ],
   "execution_count": 9
  },
  {
   "cell_type": "code",
   "metadata": {
    "ExecuteTime": {
     "end_time": "2024-05-27T06:49:36.959040Z",
     "start_time": "2024-05-27T06:49:36.955787Z"
    }
   },
   "source": [
    "C0 = np.dot(M0, phi)\n",
    "C0"
   ],
   "outputs": [
    {
     "data": {
      "text/plain": [
       "2.0"
      ]
     },
     "execution_count": 10,
     "metadata": {},
     "output_type": "execute_result"
    }
   ],
   "execution_count": 10
  },
  {
   "cell_type": "markdown",
   "metadata": {},
   "source": [
    "## Expected Utility Theory"
   ]
  },
  {
   "cell_type": "code",
   "metadata": {
    "ExecuteTime": {
     "end_time": "2024-05-27T06:49:38.504394Z",
     "start_time": "2024-05-27T06:49:38.500042Z"
    }
   },
   "source": [
    "def u(x):\n",
    "    return np.sqrt(x)"
   ],
   "outputs": [],
   "execution_count": 11
  },
  {
   "cell_type": "code",
   "metadata": {
    "ExecuteTime": {
     "end_time": "2024-05-27T06:49:40.114792Z",
     "start_time": "2024-05-27T06:49:40.112049Z"
    }
   },
   "source": [
    "phi_A = np.array((0.75, 0.25))\n",
    "phi_D = np.array((0.25, 0.75))"
   ],
   "outputs": [],
   "execution_count": 12
  },
  {
   "cell_type": "code",
   "metadata": {
    "ExecuteTime": {
     "end_time": "2024-05-27T06:49:41.543523Z",
     "start_time": "2024-05-27T06:49:41.539847Z"
    }
   },
   "source": [
    "np.dot(M0, phi_A) == np.dot(M0, phi_D)"
   ],
   "outputs": [
    {
     "data": {
      "text/plain": [
       "True"
      ]
     },
     "execution_count": 13,
     "metadata": {},
     "output_type": "execute_result"
    }
   ],
   "execution_count": 13
  },
  {
   "cell_type": "code",
   "metadata": {
    "ExecuteTime": {
     "end_time": "2024-05-27T06:49:42.631773Z",
     "start_time": "2024-05-27T06:49:42.624332Z"
    }
   },
   "source": [
    "A1 = np.dot(M1, phi_A)\n",
    "A1"
   ],
   "outputs": [
    {
     "data": {
      "text/plain": [
       "array([17.75,  6.5 ])"
      ]
     },
     "execution_count": 14,
     "metadata": {},
     "output_type": "execute_result"
    }
   ],
   "execution_count": 14
  },
  {
   "cell_type": "code",
   "metadata": {
    "ExecuteTime": {
     "end_time": "2024-05-27T06:49:43.446999Z",
     "start_time": "2024-05-27T06:49:43.443596Z"
    }
   },
   "source": [
    "D1 = np.dot(M1, phi_D)\n",
    "D1"
   ],
   "outputs": [
    {
     "data": {
      "text/plain": [
       "array([13.25,  9.5 ])"
      ]
     },
     "execution_count": 15,
     "metadata": {},
     "output_type": "execute_result"
    }
   ],
   "execution_count": 15
  },
  {
   "cell_type": "code",
   "metadata": {
    "ExecuteTime": {
     "end_time": "2024-05-27T06:49:44.082542Z",
     "start_time": "2024-05-27T06:49:44.079486Z"
    }
   },
   "source": [
    "P = np.array((0.5, 0.5))"
   ],
   "outputs": [],
   "execution_count": 16
  },
  {
   "cell_type": "code",
   "metadata": {
    "ExecuteTime": {
     "end_time": "2024-05-27T06:49:44.697822Z",
     "start_time": "2024-05-27T06:49:44.695276Z"
    }
   },
   "source": [
    "def EUT(x):\n",
    "    return np.dot(P, u(x))"
   ],
   "outputs": [],
   "execution_count": 17
  },
  {
   "cell_type": "code",
   "metadata": {
    "ExecuteTime": {
     "end_time": "2024-05-27T06:49:45.205739Z",
     "start_time": "2024-05-27T06:49:45.202637Z"
    }
   },
   "source": [
    "EUT(A1)"
   ],
   "outputs": [
    {
     "data": {
      "text/plain": [
       "3.381292321692286"
      ]
     },
     "execution_count": 18,
     "metadata": {},
     "output_type": "execute_result"
    }
   ],
   "execution_count": 18
  },
  {
   "cell_type": "code",
   "metadata": {
    "ExecuteTime": {
     "end_time": "2024-05-27T06:49:45.951018Z",
     "start_time": "2024-05-27T06:49:45.947717Z"
    }
   },
   "source": [
    "EUT(D1)"
   ],
   "outputs": [
    {
     "data": {
      "text/plain": [
       "3.3611309730623735"
      ]
     },
     "execution_count": 19,
     "metadata": {},
     "output_type": "execute_result"
    }
   ],
   "execution_count": 19
  },
  {
   "cell_type": "code",
   "metadata": {
    "ExecuteTime": {
     "end_time": "2024-05-27T06:49:47.207737Z",
     "start_time": "2024-05-27T06:49:46.631257Z"
    }
   },
   "source": [
    "from scipy.optimize import minimize"
   ],
   "outputs": [],
   "execution_count": 20
  },
  {
   "cell_type": "code",
   "metadata": {
    "ExecuteTime": {
     "end_time": "2024-05-27T06:49:47.906982Z",
     "start_time": "2024-05-27T06:49:47.904596Z"
    }
   },
   "source": [
    "w = 10"
   ],
   "outputs": [],
   "execution_count": 21
  },
  {
   "cell_type": "code",
   "metadata": {
    "ExecuteTime": {
     "end_time": "2024-05-27T06:49:48.696486Z",
     "start_time": "2024-05-27T06:49:48.693855Z"
    }
   },
   "source": [
    "cons = {'type': 'eq', 'fun': lambda phi: np.dot(M0, phi) - w}"
   ],
   "outputs": [],
   "execution_count": 22
  },
  {
   "cell_type": "code",
   "metadata": {
    "ExecuteTime": {
     "end_time": "2024-05-27T06:49:49.475932Z",
     "start_time": "2024-05-27T06:49:49.470284Z"
    }
   },
   "source": [
    "def EUT_(phi):\n",
    "    x = np.dot(M1, phi)\n",
    "    return EUT(x)"
   ],
   "outputs": [],
   "execution_count": 23
  },
  {
   "cell_type": "code",
   "metadata": {
    "ExecuteTime": {
     "end_time": "2024-05-27T06:49:50.216061Z",
     "start_time": "2024-05-27T06:49:50.210369Z"
    }
   },
   "source": [
    "opt = minimize(lambda phi: -EUT_(phi),\n",
    "               x0=phi_A,\n",
    "               constraints=cons)"
   ],
   "outputs": [],
   "execution_count": 24
  },
  {
   "cell_type": "code",
   "metadata": {
    "ExecuteTime": {
     "end_time": "2024-05-27T06:49:50.869682Z",
     "start_time": "2024-05-27T06:49:50.865319Z"
    }
   },
   "source": [
    "opt"
   ],
   "outputs": [
    {
     "data": {
      "text/plain": [
       " message: Optimization terminated successfully\n",
       " success: True\n",
       "  status: 0\n",
       "     fun: -3.385015999493397\n",
       "       x: [ 6.112e-01  3.888e-01]\n",
       "     nit: 4\n",
       "     jac: [-1.692e+00 -1.693e+00]\n",
       "    nfev: 12\n",
       "    njev: 4"
      ]
     },
     "execution_count": 25,
     "metadata": {},
     "output_type": "execute_result"
    }
   ],
   "execution_count": 25
  },
  {
   "cell_type": "code",
   "metadata": {
    "ExecuteTime": {
     "end_time": "2024-05-27T06:49:51.559656Z",
     "start_time": "2024-05-27T06:49:51.556453Z"
    }
   },
   "source": [
    "EUT_(opt['x'])"
   ],
   "outputs": [
    {
     "data": {
      "text/plain": [
       "3.385015999493397"
      ]
     },
     "execution_count": 26,
     "metadata": {},
     "output_type": "execute_result"
    }
   ],
   "execution_count": 26
  },
  {
   "cell_type": "code",
   "metadata": {
    "ExecuteTime": {
     "end_time": "2024-05-27T06:49:52.470326Z",
     "start_time": "2024-05-27T06:49:52.467039Z"
    }
   },
   "source": [
    "np.dot(M0, opt['x'])"
   ],
   "outputs": [
    {
     "data": {
      "text/plain": [
       "10.0"
      ]
     },
     "execution_count": 27,
     "metadata": {},
     "output_type": "execute_result"
    }
   ],
   "execution_count": 27
  },
  {
   "cell_type": "markdown",
   "metadata": {},
   "source": [
    "## Mean-Variance Portfolio Theory"
   ]
  },
  {
   "cell_type": "code",
   "metadata": {
    "ExecuteTime": {
     "end_time": "2024-05-27T06:49:53.851036Z",
     "start_time": "2024-05-27T06:49:53.844519Z"
    }
   },
   "source": [
    "rS = S1 / S0 - 1\n",
    "rS"
   ],
   "outputs": [
    {
     "data": {
      "text/plain": [
       "array([ 1. , -0.5])"
      ]
     },
     "execution_count": 28,
     "metadata": {},
     "output_type": "execute_result"
    }
   ],
   "execution_count": 28
  },
  {
   "cell_type": "code",
   "metadata": {
    "ExecuteTime": {
     "end_time": "2024-05-27T06:49:54.516633Z",
     "start_time": "2024-05-27T06:49:54.513157Z"
    }
   },
   "source": [
    "rB = B1 / B0 - 1\n",
    "rB"
   ],
   "outputs": [
    {
     "data": {
      "text/plain": [
       "array([0.1, 0.1])"
      ]
     },
     "execution_count": 29,
     "metadata": {},
     "output_type": "execute_result"
    }
   ],
   "execution_count": 29
  },
  {
   "cell_type": "code",
   "metadata": {
    "ExecuteTime": {
     "end_time": "2024-05-27T06:49:55.140083Z",
     "start_time": "2024-05-27T06:49:55.137770Z"
    }
   },
   "source": [
    "def mu(rX):\n",
    "    return np.dot(P, rX)"
   ],
   "outputs": [],
   "execution_count": 30
  },
  {
   "cell_type": "code",
   "metadata": {
    "ExecuteTime": {
     "end_time": "2024-05-27T06:49:55.774428Z",
     "start_time": "2024-05-27T06:49:55.770943Z"
    }
   },
   "source": [
    "mu(rS)"
   ],
   "outputs": [
    {
     "data": {
      "text/plain": [
       "0.25"
      ]
     },
     "execution_count": 31,
     "metadata": {},
     "output_type": "execute_result"
    }
   ],
   "execution_count": 31
  },
  {
   "cell_type": "code",
   "metadata": {
    "ExecuteTime": {
     "end_time": "2024-05-27T06:49:56.423450Z",
     "start_time": "2024-05-27T06:49:56.417898Z"
    }
   },
   "source": [
    "mu(rB)"
   ],
   "outputs": [
    {
     "data": {
      "text/plain": [
       "0.10000000000000009"
      ]
     },
     "execution_count": 32,
     "metadata": {},
     "output_type": "execute_result"
    }
   ],
   "execution_count": 32
  },
  {
   "cell_type": "code",
   "metadata": {
    "ExecuteTime": {
     "end_time": "2024-05-27T06:49:57.041942Z",
     "start_time": "2024-05-27T06:49:57.038200Z"
    }
   },
   "source": [
    "rM = M1 / M0 - 1\n",
    "rM"
   ],
   "outputs": [
    {
     "data": {
      "text/plain": [
       "array([[ 1. ,  0.1],\n",
       "       [-0.5,  0.1]])"
      ]
     },
     "execution_count": 33,
     "metadata": {},
     "output_type": "execute_result"
    }
   ],
   "execution_count": 33
  },
  {
   "cell_type": "code",
   "metadata": {
    "ExecuteTime": {
     "end_time": "2024-05-27T06:49:57.873333Z",
     "start_time": "2024-05-27T06:49:57.869912Z"
    }
   },
   "source": [
    "mu(rM)"
   ],
   "outputs": [
    {
     "data": {
      "text/plain": [
       "array([0.25, 0.1 ])"
      ]
     },
     "execution_count": 34,
     "metadata": {},
     "output_type": "execute_result"
    }
   ],
   "execution_count": 34
  },
  {
   "cell_type": "code",
   "metadata": {
    "ExecuteTime": {
     "end_time": "2024-05-27T06:49:58.503659Z",
     "start_time": "2024-05-27T06:49:58.501525Z"
    }
   },
   "source": [
    "def var(rX):\n",
    "    return ((rX - mu(rX)) ** 2).mean()"
   ],
   "outputs": [],
   "execution_count": 35
  },
  {
   "cell_type": "code",
   "metadata": {
    "ExecuteTime": {
     "end_time": "2024-05-27T06:49:59.336584Z",
     "start_time": "2024-05-27T06:49:59.330626Z"
    }
   },
   "source": [
    "var(rS)"
   ],
   "outputs": [
    {
     "data": {
      "text/plain": [
       "0.5625"
      ]
     },
     "execution_count": 36,
     "metadata": {},
     "output_type": "execute_result"
    }
   ],
   "execution_count": 36
  },
  {
   "cell_type": "code",
   "metadata": {
    "ExecuteTime": {
     "end_time": "2024-05-27T06:50:00.061736Z",
     "start_time": "2024-05-27T06:50:00.058644Z"
    }
   },
   "source": [
    "var(rB)"
   ],
   "outputs": [
    {
     "data": {
      "text/plain": [
       "0.0"
      ]
     },
     "execution_count": 37,
     "metadata": {},
     "output_type": "execute_result"
    }
   ],
   "execution_count": 37
  },
  {
   "cell_type": "code",
   "metadata": {
    "ExecuteTime": {
     "end_time": "2024-05-27T06:50:00.848463Z",
     "start_time": "2024-05-27T06:50:00.846137Z"
    }
   },
   "source": [
    "def sigma(rX):\n",
    "    return np.sqrt(var(rX))"
   ],
   "outputs": [],
   "execution_count": 38
  },
  {
   "cell_type": "code",
   "metadata": {
    "ExecuteTime": {
     "end_time": "2024-05-27T06:50:01.744908Z",
     "start_time": "2024-05-27T06:50:01.739507Z"
    }
   },
   "source": [
    "sigma(rS)"
   ],
   "outputs": [
    {
     "data": {
      "text/plain": [
       "0.75"
      ]
     },
     "execution_count": 39,
     "metadata": {},
     "output_type": "execute_result"
    }
   ],
   "execution_count": 39
  },
  {
   "cell_type": "code",
   "metadata": {
    "ExecuteTime": {
     "end_time": "2024-05-27T06:50:02.564369Z",
     "start_time": "2024-05-27T06:50:02.559454Z"
    }
   },
   "source": [
    "sigma(rB)"
   ],
   "outputs": [
    {
     "data": {
      "text/plain": [
       "0.0"
      ]
     },
     "execution_count": 40,
     "metadata": {},
     "output_type": "execute_result"
    }
   ],
   "execution_count": 40
  },
  {
   "cell_type": "code",
   "metadata": {
    "ExecuteTime": {
     "end_time": "2024-05-27T06:50:03.369473Z",
     "start_time": "2024-05-27T06:50:03.365142Z"
    }
   },
   "source": [
    "np.cov(rM.T, aweights=P, ddof=0)"
   ],
   "outputs": [
    {
     "data": {
      "text/plain": [
       "array([[0.5625, 0.    ],\n",
       "       [0.    , 0.    ]])"
      ]
     },
     "execution_count": 41,
     "metadata": {},
     "output_type": "execute_result"
    }
   ],
   "execution_count": 41
  },
  {
   "cell_type": "code",
   "metadata": {
    "ExecuteTime": {
     "end_time": "2024-05-27T06:50:04.223375Z",
     "start_time": "2024-05-27T06:50:04.221203Z"
    }
   },
   "source": [
    "phi = np.array((0.5, 0.5))"
   ],
   "outputs": [],
   "execution_count": 42
  },
  {
   "cell_type": "code",
   "metadata": {
    "ExecuteTime": {
     "end_time": "2024-05-27T06:50:04.908421Z",
     "start_time": "2024-05-27T06:50:04.906051Z"
    }
   },
   "source": [
    "def mu_phi(phi):\n",
    "    return np.dot(phi, mu(rM))"
   ],
   "outputs": [],
   "execution_count": 43
  },
  {
   "cell_type": "code",
   "metadata": {
    "ExecuteTime": {
     "end_time": "2024-05-27T06:50:05.708773Z",
     "start_time": "2024-05-27T06:50:05.692849Z"
    }
   },
   "source": [
    "mu_phi(phi)"
   ],
   "outputs": [
    {
     "data": {
      "text/plain": [
       "0.17500000000000004"
      ]
     },
     "execution_count": 44,
     "metadata": {},
     "output_type": "execute_result"
    }
   ],
   "execution_count": 44
  },
  {
   "cell_type": "code",
   "metadata": {
    "ExecuteTime": {
     "end_time": "2024-05-27T06:50:06.411739Z",
     "start_time": "2024-05-27T06:50:06.409235Z"
    }
   },
   "source": [
    "def var_phi(phi):\n",
    "    cv = np.cov(rM.T, aweights=P, ddof=0)\n",
    "    return np.dot(phi, np.dot(cv, phi))"
   ],
   "outputs": [],
   "execution_count": 45
  },
  {
   "cell_type": "code",
   "metadata": {
    "ExecuteTime": {
     "end_time": "2024-05-27T06:50:07.310217Z",
     "start_time": "2024-05-27T06:50:07.305851Z"
    }
   },
   "source": [
    "var_phi(phi)"
   ],
   "outputs": [
    {
     "data": {
      "text/plain": [
       "0.140625"
      ]
     },
     "execution_count": 46,
     "metadata": {},
     "output_type": "execute_result"
    }
   ],
   "execution_count": 46
  },
  {
   "cell_type": "code",
   "metadata": {
    "ExecuteTime": {
     "end_time": "2024-05-27T06:50:08.195589Z",
     "start_time": "2024-05-27T06:50:08.189543Z"
    }
   },
   "source": [
    "def sigma_phi(phi):\n",
    "    return var_phi(phi) ** 0.5"
   ],
   "outputs": [],
   "execution_count": 47
  },
  {
   "cell_type": "code",
   "metadata": {
    "ExecuteTime": {
     "end_time": "2024-05-27T06:50:08.982224Z",
     "start_time": "2024-05-27T06:50:08.977650Z"
    }
   },
   "source": [
    "sigma_phi(phi)"
   ],
   "outputs": [
    {
     "data": {
      "text/plain": [
       "0.375"
      ]
     },
     "execution_count": 48,
     "metadata": {},
     "output_type": "execute_result"
    }
   ],
   "execution_count": 48
  },
  {
   "cell_type": "code",
   "metadata": {
    "ExecuteTime": {
     "end_time": "2024-05-27T06:50:33.872701Z",
     "start_time": "2024-05-27T06:50:33.866183Z"
    }
   },
   "source": [
    "from pylab import plt, mpl\n",
    "plt.style.use('seaborn-v0_8')\n",
    "mpl.rcParams['savefig.dpi'] = 300\n",
    "mpl.rcParams['font.family'] = 'serif'"
   ],
   "outputs": [],
   "execution_count": 51
  },
  {
   "cell_type": "code",
   "metadata": {
    "ExecuteTime": {
     "end_time": "2024-05-27T06:50:34.901859Z",
     "start_time": "2024-05-27T06:50:34.896091Z"
    }
   },
   "source": [
    "phi_mcs = np.random.random((2, 200))"
   ],
   "outputs": [],
   "execution_count": 52
  },
  {
   "cell_type": "code",
   "metadata": {
    "ExecuteTime": {
     "end_time": "2024-05-27T06:50:35.618588Z",
     "start_time": "2024-05-27T06:50:35.613408Z"
    }
   },
   "source": [
    "phi_mcs = (phi_mcs / phi_mcs.sum(axis=0)).T"
   ],
   "outputs": [],
   "execution_count": 53
  },
  {
   "cell_type": "code",
   "metadata": {
    "ExecuteTime": {
     "end_time": "2024-05-27T06:50:36.284200Z",
     "start_time": "2024-05-27T06:50:36.272448Z"
    }
   },
   "source": [
    "mcs = np.array([(sigma_phi(phi), mu_phi(phi))\n",
    "                for phi in phi_mcs])"
   ],
   "outputs": [],
   "execution_count": 54
  },
  {
   "cell_type": "code",
   "metadata": {
    "ExecuteTime": {
     "end_time": "2024-05-27T06:50:37.214711Z",
     "start_time": "2024-05-27T06:50:37.035062Z"
    }
   },
   "source": [
    "plt.figure(figsize=(10, 6))\n",
    "plt.plot(mcs[:, 0], mcs[:, 1], 'ro')\n",
    "plt.xlabel('expected volatility')\n",
    "plt.ylabel('expected return');"
   ],
   "outputs": [
    {
     "data": {
      "text/plain": [
       "<Figure size 1000x600 with 1 Axes>"
      ],
      "image/png": "[encoded data removed]"
     },
     "metadata": {},
     "output_type": "display_data"
    }
   ],
   "execution_count": 55
  },
  {
   "cell_type": "code",
   "metadata": {
    "ExecuteTime": {
     "end_time": "2024-05-27T06:50:38.251255Z",
     "start_time": "2024-05-27T06:50:38.247561Z"
    }
   },
   "source": [
    "P = np.ones(3) / 3\n",
    "P"
   ],
   "outputs": [
    {
     "data": {
      "text/plain": [
       "array([0.33333333, 0.33333333, 0.33333333])"
      ]
     },
     "execution_count": 56,
     "metadata": {},
     "output_type": "execute_result"
    }
   ],
   "execution_count": 56
  },
  {
   "cell_type": "code",
   "metadata": {
    "ExecuteTime": {
     "end_time": "2024-05-27T06:50:39.120948Z",
     "start_time": "2024-05-27T06:50:39.117644Z"
    }
   },
   "source": [
    "S1 = np.array((20, 10, 5))"
   ],
   "outputs": [],
   "execution_count": 57
  },
  {
   "cell_type": "code",
   "metadata": {
    "ExecuteTime": {
     "end_time": "2024-05-27T06:50:39.871632Z",
     "start_time": "2024-05-27T06:50:39.869207Z"
    }
   },
   "source": [
    "T0 = 10\n",
    "T1 = np.array((1, 12, 13))"
   ],
   "outputs": [],
   "execution_count": 58
  },
  {
   "cell_type": "code",
   "metadata": {
    "ExecuteTime": {
     "end_time": "2024-05-27T06:50:40.513966Z",
     "start_time": "2024-05-27T06:50:40.510497Z"
    }
   },
   "source": [
    "M0 = np.array((S0, T0))\n",
    "M0"
   ],
   "outputs": [
    {
     "data": {
      "text/plain": [
       "array([10, 10])"
      ]
     },
     "execution_count": 59,
     "metadata": {},
     "output_type": "execute_result"
    }
   ],
   "execution_count": 59
  },
  {
   "cell_type": "code",
   "metadata": {
    "ExecuteTime": {
     "end_time": "2024-05-27T06:50:41.047320Z",
     "start_time": "2024-05-27T06:50:41.043744Z"
    }
   },
   "source": [
    "M1 = np.array((S1, T1)).T\n",
    "M1"
   ],
   "outputs": [
    {
     "data": {
      "text/plain": [
       "array([[20,  1],\n",
       "       [10, 12],\n",
       "       [ 5, 13]])"
      ]
     },
     "execution_count": 60,
     "metadata": {},
     "output_type": "execute_result"
    }
   ],
   "execution_count": 60
  },
  {
   "cell_type": "code",
   "metadata": {
    "ExecuteTime": {
     "end_time": "2024-05-27T06:50:42.054114Z",
     "start_time": "2024-05-27T06:50:42.050857Z"
    }
   },
   "source": [
    "rM = M1 / M0 - 1\n",
    "rM"
   ],
   "outputs": [
    {
     "data": {
      "text/plain": [
       "array([[ 1. , -0.9],\n",
       "       [ 0. ,  0.2],\n",
       "       [-0.5,  0.3]])"
      ]
     },
     "execution_count": 61,
     "metadata": {},
     "output_type": "execute_result"
    }
   ],
   "execution_count": 61
  },
  {
   "cell_type": "code",
   "metadata": {
    "ExecuteTime": {
     "end_time": "2024-05-27T06:50:42.780659Z",
     "start_time": "2024-05-27T06:50:42.765392Z"
    }
   },
   "source": [
    "mcs = np.array([(sigma_phi(phi), mu_phi(phi))\n",
    "                for phi in phi_mcs])"
   ],
   "outputs": [],
   "execution_count": 62
  },
  {
   "cell_type": "code",
   "metadata": {
    "ExecuteTime": {
     "end_time": "2024-05-27T06:50:43.691533Z",
     "start_time": "2024-05-27T06:50:43.578437Z"
    }
   },
   "source": [
    "plt.figure(figsize=(10, 6))\n",
    "plt.plot(mcs[:, 0], mcs[:, 1], 'ro')\n",
    "plt.xlabel('expected volatility')\n",
    "plt.ylabel('expected return');"
   ],
   "outputs": [
    {
     "data": {
      "text/plain": [
       "<Figure size 1000x600 with 1 Axes>"
      ],
      "image/png": "[encoded data removed]"
     },
     "metadata": {},
     "output_type": "display_data"
    }
   ],
   "execution_count": 63
  },
  {
   "cell_type": "code",
   "metadata": {
    "ExecuteTime": {
     "end_time": "2024-05-27T06:50:44.738818Z",
     "start_time": "2024-05-27T06:50:44.735431Z"
    }
   },
   "source": [
    "cons = {'type': 'eq', 'fun': lambda phi: np.sum(phi) - 1}"
   ],
   "outputs": [],
   "execution_count": 64
  },
  {
   "cell_type": "code",
   "metadata": {
    "ExecuteTime": {
     "end_time": "2024-05-27T06:50:45.416451Z",
     "start_time": "2024-05-27T06:50:45.413629Z"
    }
   },
   "source": [
    "bnds = ((0, 1), (0, 1))"
   ],
   "outputs": [],
   "execution_count": 65
  },
  {
   "cell_type": "code",
   "metadata": {
    "ExecuteTime": {
     "end_time": "2024-05-27T06:50:46.097452Z",
     "start_time": "2024-05-27T06:50:46.091518Z"
    }
   },
   "source": [
    "min_var = minimize(sigma_phi, (0.5, 0.5),\n",
    "                   constraints=cons, bounds=bnds)"
   ],
   "outputs": [],
   "execution_count": 66
  },
  {
   "cell_type": "code",
   "metadata": {
    "ExecuteTime": {
     "end_time": "2024-05-27T06:50:46.826539Z",
     "start_time": "2024-05-27T06:50:46.821988Z"
    }
   },
   "source": [
    "min_var"
   ],
   "outputs": [
    {
     "data": {
      "text/plain": [
       " message: Optimization terminated successfully\n",
       " success: True\n",
       "  status: 0\n",
       "     fun: 0.0748132294694248\n",
       "       x: [ 4.651e-01  5.349e-01]\n",
       "     nit: 4\n",
       "     jac: [ 7.427e-02  7.529e-02]\n",
       "    nfev: 13\n",
       "    njev: 4"
      ]
     },
     "execution_count": 67,
     "metadata": {},
     "output_type": "execute_result"
    }
   ],
   "execution_count": 67
  },
  {
   "cell_type": "code",
   "metadata": {
    "ExecuteTime": {
     "end_time": "2024-05-27T06:50:48.037539Z",
     "start_time": "2024-05-27T06:50:48.034513Z"
    }
   },
   "source": [
    "def sharpe(phi):\n",
    "    return mu_phi(phi) / sigma_phi(phi)"
   ],
   "outputs": [],
   "execution_count": 68
  },
  {
   "cell_type": "code",
   "metadata": {
    "ExecuteTime": {
     "end_time": "2024-05-27T06:50:49.060581Z",
     "start_time": "2024-05-27T06:50:49.048676Z"
    }
   },
   "source": [
    "max_sharpe = minimize(lambda phi: -sharpe(phi), (0.5, 0.5),\n",
    "               constraints=cons, bounds=bnds)"
   ],
   "outputs": [],
   "execution_count": 69
  },
  {
   "cell_type": "code",
   "metadata": {
    "ExecuteTime": {
     "end_time": "2024-05-27T06:50:49.872156Z",
     "start_time": "2024-05-27T06:50:49.868307Z"
    }
   },
   "source": [
    "max_sharpe"
   ],
   "outputs": [
    {
     "data": {
      "text/plain": [
       " message: Optimization terminated successfully\n",
       " success: True\n",
       "  status: 0\n",
       "     fun: -0.2721654098971508\n",
       "       x: [ 6.673e-01  3.327e-01]\n",
       "     nit: 9\n",
       "     jac: [ 1.205e-04 -2.417e-04]\n",
       "    nfev: 29\n",
       "    njev: 9"
      ]
     },
     "execution_count": 70,
     "metadata": {},
     "output_type": "execute_result"
    }
   ],
   "execution_count": 70
  },
  {
   "cell_type": "code",
   "metadata": {
    "ExecuteTime": {
     "end_time": "2024-05-27T06:50:51.077448Z",
     "start_time": "2024-05-27T06:50:50.903785Z"
    }
   },
   "source": [
    "plt.figure(figsize=(10, 6))\n",
    "plt.plot(mcs[:, 0], mcs[:, 1], 'ro', ms=5)\n",
    "plt.plot(sigma_phi(min_var['x']), mu_phi(min_var['x']),\n",
    "         '^', ms=12.5, label='minimum volatility')\n",
    "plt.plot(sigma_phi(max_sharpe['x']), mu_phi(max_sharpe['x']),\n",
    "         'v', ms=12.5, label='maximum Sharpe ratio')\n",
    "plt.xlabel('expected volatility')\n",
    "plt.ylabel('expected return')\n",
    "plt.legend();"
   ],
   "outputs": [
    {
     "data": {
      "text/plain": [
       "<Figure size 1000x600 with 1 Axes>"
      ],
      "image/png": "[encoded data removed]"
     },
     "metadata": {},
     "output_type": "display_data"
    }
   ],
   "execution_count": 71
  },
  {
   "cell_type": "code",
   "metadata": {
    "ExecuteTime": {
     "end_time": "2024-05-27T06:50:51.918952Z",
     "start_time": "2024-05-27T06:50:51.915783Z"
    }
   },
   "source": [
    "cons = [{'type': 'eq', 'fun': lambda phi: np.sum(phi) - 1},\n",
    "       {'type': 'eq', 'fun': lambda phi: mu_phi(phi) - target}]"
   ],
   "outputs": [],
   "execution_count": 72
  },
  {
   "cell_type": "code",
   "metadata": {
    "ExecuteTime": {
     "end_time": "2024-05-27T06:50:52.805762Z",
     "start_time": "2024-05-27T06:50:52.800964Z"
    }
   },
   "source": [
    "bnds = ((0, 1), (0, 1))"
   ],
   "outputs": [],
   "execution_count": 73
  },
  {
   "cell_type": "code",
   "metadata": {
    "ExecuteTime": {
     "end_time": "2024-05-27T06:50:53.788894Z",
     "start_time": "2024-05-27T06:50:53.785678Z"
    }
   },
   "source": [
    "targets = np.linspace(mu_phi(min_var['x']), 0.16)"
   ],
   "outputs": [],
   "execution_count": 74
  },
  {
   "cell_type": "code",
   "metadata": {
    "ExecuteTime": {
     "end_time": "2024-05-27T06:50:54.819227Z",
     "start_time": "2024-05-27T06:50:54.751689Z"
    }
   },
   "source": [
    "frontier = []\n",
    "for target in targets:\n",
    "    phi_eff = minimize(sigma_phi, (0.5, 0.5),\n",
    "                       constraints=cons, bounds=bnds)['x']\n",
    "    frontier.append((sigma_phi(phi_eff), mu_phi(phi_eff)))\n",
    "frontier = np.array(frontier)"
   ],
   "outputs": [],
   "execution_count": 75
  },
  {
   "cell_type": "code",
   "metadata": {
    "ExecuteTime": {
     "end_time": "2024-05-27T06:50:55.974746Z",
     "start_time": "2024-05-27T06:50:55.841399Z"
    }
   },
   "source": [
    "plt.figure(figsize=(10, 6))\n",
    "plt.plot(frontier[:, 0], frontier[:, 1], 'mo', ms=5,\n",
    "         label='efficient frontier')\n",
    "plt.plot(sigma_phi(min_var['x']), mu_phi(min_var['x']),\n",
    "         '^', ms=12.5, label='minimum volatility')\n",
    "plt.plot(sigma_phi(max_sharpe['x']), mu_phi(max_sharpe['x']),\n",
    "         'v', ms=12.5, label='maximum Sharpe ratio')\n",
    "plt.xlabel('expected volatility')\n",
    "plt.ylabel('expected return')\n",
    "plt.legend();"
   ],
   "outputs": [
    {
     "data": {
      "text/plain": [
       "<Figure size 1000x600 with 1 Axes>"
      ],
      "image/png": "[encoded data removed]"
     },
     "metadata": {},
     "output_type": "display_data"
    }
   ],
   "execution_count": 76
  },
  {
   "cell_type": "markdown",
   "metadata": {},
   "source": [
    "## Capital Asset Pricing Model"
   ]
  },
  {
   "cell_type": "code",
   "metadata": {
    "ExecuteTime": {
     "end_time": "2024-05-27T06:51:00.388336Z",
     "start_time": "2024-05-27T06:51:00.160948Z"
    }
   },
   "source": [
    "plt.figure(figsize=(10, 6))\n",
    "plt.plot((0, 0.3), (0.01, 0.22), label='capital market line')\n",
    "plt.plot(0, 0.01, 'o', ms=9, label='risk-less asset')\n",
    "plt.plot(0.2, 0.15, '^', ms=9, label='market portfolio')\n",
    "plt.annotate('$(0, \\\\bar{r})$', (0, 0.01), (-0.01, 0.02))\n",
    "plt.annotate('$(\\sigma_M, \\mu_M)$', (0.2, 0.15), (0.19, 0.16))\n",
    "plt.xlabel('expected volatility')\n",
    "plt.ylabel('expected return')\n",
    "plt.legend();"
   ],
   "outputs": [
    {
     "data": {
      "text/plain": [
       "<Figure size 1000x600 with 1 Axes>"
      ],
      "image/png": "[encoded data removed]"
     },
     "metadata": {},
     "output_type": "display_data"
    }
   ],
   "execution_count": 77
  },
  {
   "cell_type": "code",
   "metadata": {
    "ExecuteTime": {
     "end_time": "2024-05-27T06:51:02.009841Z",
     "start_time": "2024-05-27T06:51:02.006880Z"
    }
   },
   "source": [
    "phi_M = np.array((0.8, 0.2))"
   ],
   "outputs": [],
   "execution_count": 78
  },
  {
   "cell_type": "code",
   "metadata": {
    "ExecuteTime": {
     "end_time": "2024-05-27T06:51:03.141524Z",
     "start_time": "2024-05-27T06:51:03.137687Z"
    }
   },
   "source": [
    "mu_M = mu_phi(phi_M)\n",
    "mu_M"
   ],
   "outputs": [
    {
     "data": {
      "text/plain": [
       "0.10666666666666666"
      ]
     },
     "execution_count": 79,
     "metadata": {},
     "output_type": "execute_result"
    }
   ],
   "execution_count": 79
  },
  {
   "cell_type": "code",
   "metadata": {
    "ExecuteTime": {
     "end_time": "2024-05-27T06:51:03.914903Z",
     "start_time": "2024-05-27T06:51:03.910879Z"
    }
   },
   "source": [
    "sigma_M = sigma_phi(phi_M)\n",
    "sigma_M"
   ],
   "outputs": [
    {
     "data": {
      "text/plain": [
       "0.3947432358156656"
      ]
     },
     "execution_count": 80,
     "metadata": {},
     "output_type": "execute_result"
    }
   ],
   "execution_count": 80
  },
  {
   "cell_type": "code",
   "metadata": {
    "ExecuteTime": {
     "end_time": "2024-05-27T06:51:04.816876Z",
     "start_time": "2024-05-27T06:51:04.814718Z"
    }
   },
   "source": [
    "r = 0.0025"
   ],
   "outputs": [],
   "execution_count": 81
  },
  {
   "cell_type": "code",
   "metadata": {
    "ExecuteTime": {
     "end_time": "2024-05-27T06:51:05.839253Z",
     "start_time": "2024-05-27T06:51:05.629982Z"
    }
   },
   "source": [
    "plt.figure(figsize=(10, 6))\n",
    "plt.plot(frontier[:, 0], frontier[:, 1], 'm.', ms=5,\n",
    "         label='efficient frontier')\n",
    "plt.plot(0, r, 'o', ms=9, label='risk-less asset')\n",
    "plt.plot(sigma_M, mu_M, '^', ms=9, label='market portfolio')\n",
    "plt.plot((0, 0.6), (r, r + ((mu_M - r) / sigma_M) * 0.6),\n",
    "         'r', label='capital market line', lw=2.0)\n",
    "plt.annotate('$(0, \\\\bar{r})$', (0, r), (-0.015, r + 0.01))\n",
    "plt.annotate('$(\\sigma_M, \\mu_M)$', (sigma_M, mu_M),\n",
    "             (sigma_M - 0.025, mu_M + 0.01))\n",
    "plt.xlabel('expected volatility')\n",
    "plt.ylabel('expected return')\n",
    "plt.legend();"
   ],
   "outputs": [
    {
     "data": {
      "text/plain": [
       "<Figure size 1000x600 with 1 Axes>"
      ],
      "image/png": "[encoded data removed]"
     },
     "metadata": {},
     "output_type": "display_data"
    }
   ],
   "execution_count": 82
  },
  {
   "cell_type": "code",
   "metadata": {
    "ExecuteTime": {
     "end_time": "2024-05-27T06:51:07.743340Z",
     "start_time": "2024-05-27T06:51:07.735994Z"
    }
   },
   "source": [
    "def U(p):\n",
    "    mu, sigma = p\n",
    "    return mu - 1 / 2 * (sigma ** 2 + mu ** 2)"
   ],
   "outputs": [],
   "execution_count": 83
  },
  {
   "cell_type": "code",
   "metadata": {
    "ExecuteTime": {
     "end_time": "2024-05-27T06:51:08.661279Z",
     "start_time": "2024-05-27T06:51:08.658817Z"
    }
   },
   "source": [
    "cons = {'type': 'eq',\n",
    "        'fun': lambda p: p[0] - (r + (mu_M - r) / sigma_M * p[1])}"
   ],
   "outputs": [],
   "execution_count": 84
  },
  {
   "cell_type": "code",
   "metadata": {
    "ExecuteTime": {
     "end_time": "2024-05-27T06:51:09.437523Z",
     "start_time": "2024-05-27T06:51:09.428144Z"
    }
   },
   "source": [
    "opt = minimize(lambda p: -U(p), (0.1, 0.3), constraints=cons)"
   ],
   "outputs": [],
   "execution_count": 85
  },
  {
   "cell_type": "code",
   "metadata": {
    "ExecuteTime": {
     "end_time": "2024-05-27T06:51:09.994196Z",
     "start_time": "2024-05-27T06:51:09.985754Z"
    }
   },
   "source": [
    "opt"
   ],
   "outputs": [
    {
     "data": {
      "text/plain": [
       " message: Optimization terminated successfully\n",
       " success: True\n",
       "  status: 0\n",
       "     fun: -0.034885186826739426\n",
       "       x: [ 6.744e-02  2.461e-01]\n",
       "     nit: 2\n",
       "     jac: [-9.326e-01  2.461e-01]\n",
       "    nfev: 6\n",
       "    njev: 2"
      ]
     },
     "execution_count": 86,
     "metadata": {},
     "output_type": "execute_result"
    }
   ],
   "execution_count": 86
  },
  {
   "cell_type": "code",
   "metadata": {
    "ExecuteTime": {
     "end_time": "2024-05-27T06:51:11.313836Z",
     "start_time": "2024-05-27T06:51:10.974505Z"
    }
   },
   "source": [
    "from sympy import *\n",
    "init_printing(use_unicode=False, use_latex=False)"
   ],
   "outputs": [],
   "execution_count": 87
  },
  {
   "cell_type": "code",
   "metadata": {
    "ExecuteTime": {
     "end_time": "2024-05-27T06:51:11.879127Z",
     "start_time": "2024-05-27T06:51:11.876343Z"
    }
   },
   "source": [
    "mu, sigma, b, v = symbols('mu sigma b v')"
   ],
   "outputs": [],
   "execution_count": 88
  },
  {
   "cell_type": "code",
   "metadata": {
    "ExecuteTime": {
     "end_time": "2024-05-27T06:51:13.325366Z",
     "start_time": "2024-05-27T06:51:13.059508Z"
    }
   },
   "source": [
    "sol = solve('mu - b / 2 * (sigma ** 2 + mu ** 2) - v', mu)"
   ],
   "outputs": [],
   "execution_count": 89
  },
  {
   "cell_type": "code",
   "metadata": {
    "ExecuteTime": {
     "end_time": "2024-05-27T06:51:14.170158Z",
     "start_time": "2024-05-27T06:51:14.152969Z"
    }
   },
   "source": [
    "sol"
   ],
   "outputs": [
    {
     "data": {
      "text/plain": [
       "        _________________________     _________________________     \n",
       "       /    2      2                 /    2      2                  \n",
       " 1 - \\/  - b *sigma  - 2*b*v + 1   \\/  - b *sigma  - 2*b*v + 1  + 1 \n",
       "[--------------------------------, --------------------------------]\n",
       "                b                                 b                 "
      ]
     },
     "execution_count": 90,
     "metadata": {},
     "output_type": "execute_result"
    }
   ],
   "execution_count": 90
  },
  {
   "cell_type": "code",
   "metadata": {
    "ExecuteTime": {
     "end_time": "2024-05-27T06:51:14.967106Z",
     "start_time": "2024-05-27T06:51:14.960771Z"
    }
   },
   "source": [
    "u1 = sol[0].subs({'b': 1, 'v': 0.1})\n",
    "u1"
   ],
   "outputs": [
    {
     "data": {
      "text/plain": [
       "       ______________\n",
       "      /            2 \n",
       "1 - \\/  0.8 - sigma  "
      ]
     },
     "execution_count": 91,
     "metadata": {},
     "output_type": "execute_result"
    }
   ],
   "execution_count": 91
  },
  {
   "cell_type": "code",
   "metadata": {
    "ExecuteTime": {
     "end_time": "2024-05-27T06:51:16.119577Z",
     "start_time": "2024-05-27T06:51:16.111617Z"
    }
   },
   "source": [
    "u2 = sol[0].subs({'b': 1, 'v': 0.125})\n",
    "u2"
   ],
   "outputs": [
    {
     "data": {
      "text/plain": [
       "       _______________\n",
       "      /             2 \n",
       "1 - \\/  0.75 - sigma  "
      ]
     },
     "execution_count": 92,
     "metadata": {},
     "output_type": "execute_result"
    }
   ],
   "execution_count": 92
  },
  {
   "cell_type": "code",
   "metadata": {
    "ExecuteTime": {
     "end_time": "2024-05-27T06:51:19.243946Z",
     "start_time": "2024-05-27T06:51:19.223251Z"
    }
   },
   "source": [
    "f1 = lambdify(sigma, u1)\n",
    "f2 = lambdify(sigma, u2)"
   ],
   "outputs": [],
   "execution_count": 93
  },
  {
   "cell_type": "code",
   "metadata": {
    "ExecuteTime": {
     "end_time": "2024-05-27T06:51:20.364088Z",
     "start_time": "2024-05-27T06:51:20.360274Z"
    }
   },
   "source": [
    "sigma_ = np.linspace(0.0, 0.5)\n",
    "u1_ = f1(sigma_)\n",
    "u2_ = f2(sigma_)"
   ],
   "outputs": [],
   "execution_count": 94
  },
  {
   "cell_type": "code",
   "metadata": {
    "ExecuteTime": {
     "end_time": "2024-05-27T06:51:21.530698Z",
     "start_time": "2024-05-27T06:51:21.357573Z"
    }
   },
   "source": [
    "plt.figure(figsize=(10, 6))\n",
    "plt.plot(sigma_, u1_, label='$v=0.1$')\n",
    "plt.plot(sigma_, u2_, '--', label='$v=0.125$')\n",
    "plt.xlabel('expected volatility')\n",
    "plt.ylabel('expected return')\n",
    "plt.legend();"
   ],
   "outputs": [
    {
     "data": {
      "text/plain": [
       "<Figure size 1000x600 with 1 Axes>"
      ],
      "image/png": "[encoded data removed]"
     },
     "metadata": {},
     "output_type": "display_data"
    }
   ],
   "execution_count": 95
  },
  {
   "cell_type": "code",
   "metadata": {
    "ExecuteTime": {
     "end_time": "2024-05-27T06:51:22.378974Z",
     "start_time": "2024-05-27T06:51:22.372734Z"
    }
   },
   "source": [
    "u = sol[0].subs({'b': 1, 'v': -opt['fun']})\n",
    "u"
   ],
   "outputs": [
    {
     "data": {
      "text/plain": [
       "       ____________________________\n",
       "      /                          2 \n",
       "1 - \\/  0.930229626346521 - sigma  "
      ]
     },
     "execution_count": 96,
     "metadata": {},
     "output_type": "execute_result"
    }
   ],
   "execution_count": 96
  },
  {
   "cell_type": "code",
   "metadata": {
    "ExecuteTime": {
     "end_time": "2024-05-27T06:51:23.202510Z",
     "start_time": "2024-05-27T06:51:23.186197Z"
    }
   },
   "source": [
    "f = lambdify(sigma, u)"
   ],
   "outputs": [],
   "execution_count": 97
  },
  {
   "cell_type": "code",
   "metadata": {
    "ExecuteTime": {
     "end_time": "2024-05-27T06:51:24.562028Z",
     "start_time": "2024-05-27T06:51:24.559451Z"
    }
   },
   "source": [
    "u_ = f(sigma_)"
   ],
   "outputs": [],
   "execution_count": 98
  },
  {
   "cell_type": "code",
   "metadata": {
    "ExecuteTime": {
     "end_time": "2024-05-27T06:51:25.766946Z",
     "start_time": "2024-05-27T06:51:25.592527Z"
    }
   },
   "source": [
    "plt.figure(figsize=(10, 6))\n",
    "plt.plot(0, r, 'o', ms=9, label='risk-less asset')\n",
    "plt.plot(sigma_M, mu_M, '^', ms=9, label='market portfolio')\n",
    "plt.plot(opt['x'][1], opt['x'][0], 'v', ms=9, label='optimal portfolio')\n",
    "plt.plot((0, 0.5), (r, r + (mu_M - r) / sigma_M * 0.5),\n",
    "         label='capital market line', lw=2.0)\n",
    "plt.plot(sigma_, u_, '--', label='$v={}$'.format(-round(opt['fun'], 3)))\n",
    "plt.xlabel('expected volatility')\n",
    "plt.ylabel('expected return')\n",
    "plt.legend();"
   ],
   "outputs": [
    {
     "data": {
      "text/plain": [
       "<Figure size 1000x600 with 1 Axes>"
      ],
      "image/png": "[encoded data removed]"
     },
     "metadata": {},
     "output_type": "display_data"
    }
   ],
   "execution_count": 99
  },
  {
   "cell_type": "markdown",
   "metadata": {},
   "source": [
    "## Arbitrage Pricing Theory"
   ]
  },
  {
   "cell_type": "code",
   "metadata": {
    "ExecuteTime": {
     "end_time": "2024-05-27T06:51:27.594112Z",
     "start_time": "2024-05-27T06:51:27.589325Z"
    }
   },
   "source": [
    "M1"
   ],
   "outputs": [
    {
     "data": {
      "text/plain": [
       "array([[20,  1],\n",
       "       [10, 12],\n",
       "       [ 5, 13]])"
      ]
     },
     "execution_count": 100,
     "metadata": {},
     "output_type": "execute_result"
    }
   ],
   "execution_count": 100
  },
  {
   "cell_type": "code",
   "metadata": {
    "ExecuteTime": {
     "end_time": "2024-05-27T06:51:28.281687Z",
     "start_time": "2024-05-27T06:51:28.278938Z"
    }
   },
   "source": [
    "M0"
   ],
   "outputs": [
    {
     "data": {
      "text/plain": [
       "array([10, 10])"
      ]
     },
     "execution_count": 101,
     "metadata": {},
     "output_type": "execute_result"
    }
   ],
   "execution_count": 101
  },
  {
   "cell_type": "code",
   "metadata": {
    "ExecuteTime": {
     "end_time": "2024-05-27T06:51:29.079611Z",
     "start_time": "2024-05-27T06:51:29.077344Z"
    }
   },
   "source": [
    "V1 = np.array((12, 15, 7))"
   ],
   "outputs": [],
   "execution_count": 102
  },
  {
   "cell_type": "code",
   "metadata": {
    "ExecuteTime": {
     "end_time": "2024-05-27T06:51:30.019421Z",
     "start_time": "2024-05-27T06:51:30.010862Z"
    }
   },
   "source": [
    "reg = np.linalg.lstsq(M1, V1, rcond=-1)[0]\n",
    "reg"
   ],
   "outputs": [
    {
     "data": {
      "text/plain": [
       "array([0.6141665 , 0.50030531])"
      ]
     },
     "execution_count": 103,
     "metadata": {},
     "output_type": "execute_result"
    }
   ],
   "execution_count": 103
  },
  {
   "cell_type": "code",
   "metadata": {
    "ExecuteTime": {
     "end_time": "2024-05-27T06:51:30.662870Z",
     "start_time": "2024-05-27T06:51:30.659252Z"
    }
   },
   "source": [
    "np.dot(M1, reg)"
   ],
   "outputs": [
    {
     "data": {
      "text/plain": [
       "array([12.78363525, 12.14532872,  9.57480155])"
      ]
     },
     "execution_count": 104,
     "metadata": {},
     "output_type": "execute_result"
    }
   ],
   "execution_count": 104
  },
  {
   "cell_type": "code",
   "metadata": {
    "ExecuteTime": {
     "end_time": "2024-05-27T06:51:31.534308Z",
     "start_time": "2024-05-27T06:51:31.531154Z"
    }
   },
   "source": [
    "np.dot(M1, reg) - V1"
   ],
   "outputs": [
    {
     "data": {
      "text/plain": [
       "array([ 0.78363525, -2.85467128,  2.57480155])"
      ]
     },
     "execution_count": 105,
     "metadata": {},
     "output_type": "execute_result"
    }
   ],
   "execution_count": 105
  },
  {
   "cell_type": "code",
   "metadata": {
    "ExecuteTime": {
     "end_time": "2024-05-27T06:51:32.415140Z",
     "start_time": "2024-05-27T06:51:32.409836Z"
    }
   },
   "source": [
    "V0 = np.dot(M0, reg)\n",
    "V0"
   ],
   "outputs": [
    {
     "data": {
      "text/plain": [
       "11.1447180948504"
      ]
     },
     "execution_count": 106,
     "metadata": {},
     "output_type": "execute_result"
    }
   ],
   "execution_count": 106
  },
  {
   "cell_type": "code",
   "metadata": {
    "ExecuteTime": {
     "end_time": "2024-05-27T06:51:33.376245Z",
     "start_time": "2024-05-27T06:51:33.373422Z"
    }
   },
   "source": [
    "U0 = 10\n",
    "U1 = np.array((12, 5, 11))"
   ],
   "outputs": [],
   "execution_count": 107
  },
  {
   "cell_type": "code",
   "metadata": {
    "ExecuteTime": {
     "end_time": "2024-05-27T06:51:34.154437Z",
     "start_time": "2024-05-27T06:51:34.148462Z"
    }
   },
   "source": [
    "M0_ = np.array((S0, T0, U0))"
   ],
   "outputs": [],
   "execution_count": 108
  },
  {
   "cell_type": "code",
   "metadata": {
    "ExecuteTime": {
     "end_time": "2024-05-27T06:51:35.095822Z",
     "start_time": "2024-05-27T06:51:35.093117Z"
    }
   },
   "source": [
    "M1_ = np.concatenate((M1.T, np.array([U1,]))).T"
   ],
   "outputs": [],
   "execution_count": 109
  },
  {
   "cell_type": "code",
   "metadata": {
    "ExecuteTime": {
     "end_time": "2024-05-27T06:51:36.051176Z",
     "start_time": "2024-05-27T06:51:36.036799Z"
    }
   },
   "source": [
    "M1_"
   ],
   "outputs": [
    {
     "data": {
      "text/plain": [
       "array([[20,  1, 12],\n",
       "       [10, 12,  5],\n",
       "       [ 5, 13, 11]])"
      ]
     },
     "execution_count": 110,
     "metadata": {},
     "output_type": "execute_result"
    }
   ],
   "execution_count": 110
  },
  {
   "cell_type": "code",
   "metadata": {
    "ExecuteTime": {
     "end_time": "2024-05-27T06:51:36.991316Z",
     "start_time": "2024-05-27T06:51:36.985412Z"
    }
   },
   "source": [
    "np.linalg.matrix_rank(M1_)"
   ],
   "outputs": [
    {
     "data": {
      "text/plain": [
       "3"
      ]
     },
     "execution_count": 111,
     "metadata": {},
     "output_type": "execute_result"
    }
   ],
   "execution_count": 111
  },
  {
   "cell_type": "code",
   "metadata": {
    "ExecuteTime": {
     "end_time": "2024-05-27T06:51:38.317153Z",
     "start_time": "2024-05-27T06:51:38.313181Z"
    }
   },
   "source": [
    "reg = np.linalg.lstsq(M1_, V1, rcond=-1)[0]\n",
    "reg"
   ],
   "outputs": [
    {
     "data": {
      "text/plain": [
       "array([ 0.9575179 ,  0.72553699, -0.65632458])"
      ]
     },
     "execution_count": 112,
     "metadata": {},
     "output_type": "execute_result"
    }
   ],
   "execution_count": 112
  },
  {
   "cell_type": "code",
   "metadata": {
    "ExecuteTime": {
     "end_time": "2024-05-27T06:51:39.677014Z",
     "start_time": "2024-05-27T06:51:39.669994Z"
    }
   },
   "source": [
    "np.allclose(np.dot(M1_, reg), V1)"
   ],
   "outputs": [
    {
     "data": {
      "text/plain": [
       "True"
      ]
     },
     "execution_count": 113,
     "metadata": {},
     "output_type": "execute_result"
    }
   ],
   "execution_count": 113
  },
  {
   "cell_type": "code",
   "metadata": {
    "ExecuteTime": {
     "end_time": "2024-05-27T06:51:40.974071Z",
     "start_time": "2024-05-27T06:51:40.970801Z"
    }
   },
   "source": [
    "V0_ = np.dot(M0_, reg)\n",
    "V0_"
   ],
   "outputs": [
    {
     "data": {
      "text/plain": [
       "10.267303102625306"
      ]
     },
     "execution_count": 114,
     "metadata": {},
     "output_type": "execute_result"
    }
   ],
   "execution_count": 114
  },
  {
   "cell_type": "markdown",
   "metadata": {},
   "source": [
    "<img src='http://hilpisch.com/taim_logo.png' width=\"350px\" align=\"right\">\n",
    "\n",
    "<br><br><br><a href=\"http://tpq.io\" target=\"_blank\">http://tpq.io</a> | <a href=\"http://twitter.com/dyjh\" target=\"_blank\">@dyjh</a> | <a href=\"mailto:ai@tpq.io\">ai@tpq.io</a>"
   ]
  },
  {
   "metadata": {},
   "cell_type": "code",
   "outputs": [],
   "execution_count": null,
   "source": ""
  }
 ],
 "metadata": {
  "kernelspec": {
   "display_name": "Python 3 (ipykernel)",
   "language": "python",
   "name": "python3"
  },
  "language_info": {
   "codemirror_mode": {
    "name": "ipython",
    "version": 3
   },
   "file_extension": ".py",
   "mimetype": "text/x-python",
   "name": "python",
   "nbconvert_exporter": "python",
   "pygments_lexer": "ipython3",
   "version": "3.8.12"
  }
 },
 "nbformat": 4,
 "nbformat_minor": 4
}

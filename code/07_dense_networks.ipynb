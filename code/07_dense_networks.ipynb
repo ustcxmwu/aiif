{
 "cells": [
  {
   "cell_type": "markdown",
   "metadata": {},
   "source": [
    "<img src=\"https://certificate.tpq.io/taim_logo.png\" width=\"350px\" align=\"right\">"
   ]
  },
  {
   "cell_type": "markdown",
   "metadata": {},
   "source": "# Artificial Intelligence in Finance"
  },
  {
   "cell_type": "markdown",
   "metadata": {},
   "source": [
    "## Dense Neural Networks"
   ]
  },
  {
   "cell_type": "markdown",
   "metadata": {},
   "source": [
    "Dr Yves J Hilpisch | The AI Machine\n",
    "\n",
    "http://aimachine.io | http://twitter.com/dyjh"
   ]
  },
  {
   "cell_type": "code",
   "metadata": {
    "ExecuteTime": {
     "end_time": "2024-05-27T07:29:19.183191Z",
     "start_time": "2024-05-27T07:29:19.175727Z"
    }
   },
   "source": [
    "import os\n",
    "import numpy as np\n",
    "import pandas as pd\n",
    "from pylab import plt, mpl\n",
    "plt.style.use('seaborn-v0_8')\n",
    "mpl.rcParams['savefig.dpi'] = 300\n",
    "mpl.rcParams['font.family'] = 'serif'\n",
    "pd.options.display.precision = 4\n",
    "np.set_printoptions(suppress=True, precision=4)\n",
    "os.environ['PYTHONHASHSEED'] = '0'"
   ],
   "outputs": [],
   "execution_count": 3
  },
  {
   "cell_type": "markdown",
   "metadata": {},
   "source": [
    "## The Data"
   ]
  },
  {
   "cell_type": "code",
   "metadata": {
    "ExecuteTime": {
     "end_time": "2024-05-27T07:29:23.188660Z",
     "start_time": "2024-05-27T07:29:23.185813Z"
    }
   },
   "source": [
    "url = 'http://hilpisch.com/aiif_eikon_id_eur_usd.csv'"
   ],
   "outputs": [],
   "execution_count": 4
  },
  {
   "cell_type": "code",
   "metadata": {
    "ExecuteTime": {
     "end_time": "2024-05-27T07:29:23.966341Z",
     "start_time": "2024-05-27T07:29:23.963443Z"
    }
   },
   "source": [
    "symbol = 'EUR_USD'"
   ],
   "outputs": [],
   "execution_count": 5
  },
  {
   "cell_type": "code",
   "metadata": {
    "ExecuteTime": {
     "end_time": "2024-05-27T07:29:28.594666Z",
     "start_time": "2024-05-27T07:29:24.465518Z"
    }
   },
   "source": [
    "raw = pd.read_csv(url, index_col=0, parse_dates=True)"
   ],
   "outputs": [],
   "execution_count": 6
  },
  {
   "cell_type": "code",
   "metadata": {
    "ExecuteTime": {
     "end_time": "2024-05-27T07:29:29.519869Z",
     "start_time": "2024-05-27T07:29:29.508864Z"
    }
   },
   "source": [
    "raw.head()"
   ],
   "outputs": [
    {
     "data": {
      "text/plain": [
       "                       HIGH     LOW    OPEN   CLOSE\n",
       "Date                                               \n",
       "2019-10-01 00:00:00  1.0899  1.0897  1.0897  1.0899\n",
       "2019-10-01 00:01:00  1.0899  1.0896  1.0899  1.0898\n",
       "2019-10-01 00:02:00  1.0898  1.0896  1.0898  1.0896\n",
       "2019-10-01 00:03:00  1.0898  1.0896  1.0897  1.0898\n",
       "2019-10-01 00:04:00  1.0898  1.0896  1.0897  1.0898"
      ],
      "text/html": [
       "<div>\n",
       "<style scoped>\n",
       "    .dataframe tbody tr th:only-of-type {\n",
       "        vertical-align: middle;\n",
       "    }\n",
       "\n",
       "    .dataframe tbody tr th {\n",
       "        vertical-align: top;\n",
       "    }\n",
       "\n",
       "    .dataframe thead th {\n",
       "        text-align: right;\n",
       "    }\n",
       "</style>\n",
       "<table border=\"1\" class=\"dataframe\">\n",
       "  <thead>\n",
       "    <tr style=\"text-align: right;\">\n",
       "      <th></th>\n",
       "      <th>HIGH</th>\n",
       "      <th>LOW</th>\n",
       "      <th>OPEN</th>\n",
       "      <th>CLOSE</th>\n",
       "    </tr>\n",
       "    <tr>\n",
       "      <th>Date</th>\n",
       "      <th></th>\n",
       "      <th></th>\n",
       "      <th></th>\n",
       "      <th></th>\n",
       "    </tr>\n",
       "  </thead>\n",
       "  <tbody>\n",
       "    <tr>\n",
       "      <th>2019-10-01 00:00:00</th>\n",
       "      <td>1.0899</td>\n",
       "      <td>1.0897</td>\n",
       "      <td>1.0897</td>\n",
       "      <td>1.0899</td>\n",
       "    </tr>\n",
       "    <tr>\n",
       "      <th>2019-10-01 00:01:00</th>\n",
       "      <td>1.0899</td>\n",
       "      <td>1.0896</td>\n",
       "      <td>1.0899</td>\n",
       "      <td>1.0898</td>\n",
       "    </tr>\n",
       "    <tr>\n",
       "      <th>2019-10-01 00:02:00</th>\n",
       "      <td>1.0898</td>\n",
       "      <td>1.0896</td>\n",
       "      <td>1.0898</td>\n",
       "      <td>1.0896</td>\n",
       "    </tr>\n",
       "    <tr>\n",
       "      <th>2019-10-01 00:03:00</th>\n",
       "      <td>1.0898</td>\n",
       "      <td>1.0896</td>\n",
       "      <td>1.0897</td>\n",
       "      <td>1.0898</td>\n",
       "    </tr>\n",
       "    <tr>\n",
       "      <th>2019-10-01 00:04:00</th>\n",
       "      <td>1.0898</td>\n",
       "      <td>1.0896</td>\n",
       "      <td>1.0897</td>\n",
       "      <td>1.0898</td>\n",
       "    </tr>\n",
       "  </tbody>\n",
       "</table>\n",
       "</div>"
      ]
     },
     "execution_count": 7,
     "metadata": {},
     "output_type": "execute_result"
    }
   ],
   "execution_count": 7
  },
  {
   "cell_type": "code",
   "metadata": {
    "ExecuteTime": {
     "end_time": "2024-05-27T07:29:30.782943Z",
     "start_time": "2024-05-27T07:29:30.774440Z"
    }
   },
   "source": [
    "raw.info()"
   ],
   "outputs": [
    {
     "name": "stdout",
     "output_type": "stream",
     "text": [
      "<class 'pandas.core.frame.DataFrame'>\n",
      "DatetimeIndex: 96526 entries, 2019-10-01 00:00:00 to 2019-12-31 23:06:00\n",
      "Data columns (total 4 columns):\n",
      " #   Column  Non-Null Count  Dtype  \n",
      "---  ------  --------------  -----  \n",
      " 0   HIGH    96526 non-null  float64\n",
      " 1   LOW     96526 non-null  float64\n",
      " 2   OPEN    96526 non-null  float64\n",
      " 3   CLOSE   96526 non-null  float64\n",
      "dtypes: float64(4)\n",
      "memory usage: 3.7 MB\n"
     ]
    }
   ],
   "execution_count": 8
  },
  {
   "cell_type": "code",
   "metadata": {
    "ExecuteTime": {
     "end_time": "2024-05-27T07:29:53.898847Z",
     "start_time": "2024-05-27T07:29:53.887512Z"
    }
   },
   "source": [
    "data = pd.DataFrame(raw['CLOSE'].loc[:])\n",
    "data.columns = [symbol]"
   ],
   "outputs": [],
   "execution_count": 9
  },
  {
   "cell_type": "code",
   "metadata": {
    "ExecuteTime": {
     "end_time": "2024-05-27T07:29:55.275740Z",
     "start_time": "2024-05-27T07:29:55.256486Z"
    }
   },
   "source": [
    "data = data.resample('1h', label='right').last().ffill()"
   ],
   "outputs": [],
   "execution_count": 10
  },
  {
   "cell_type": "code",
   "metadata": {
    "ExecuteTime": {
     "end_time": "2024-05-27T07:29:56.125397Z",
     "start_time": "2024-05-27T07:29:56.117867Z"
    }
   },
   "source": [
    "data.info()"
   ],
   "outputs": [
    {
     "name": "stdout",
     "output_type": "stream",
     "text": [
      "<class 'pandas.core.frame.DataFrame'>\n",
      "DatetimeIndex: 2208 entries, 2019-10-01 01:00:00 to 2020-01-01 00:00:00\n",
      "Freq: h\n",
      "Data columns (total 1 columns):\n",
      " #   Column   Non-Null Count  Dtype  \n",
      "---  ------   --------------  -----  \n",
      " 0   EUR_USD  2208 non-null   float64\n",
      "dtypes: float64(1)\n",
      "memory usage: 34.5 KB\n"
     ]
    }
   ],
   "execution_count": 11
  },
  {
   "cell_type": "code",
   "metadata": {
    "ExecuteTime": {
     "end_time": "2024-05-27T07:29:57.558309Z",
     "start_time": "2024-05-27T07:29:57.171418Z"
    }
   },
   "source": [
    "data.plot(figsize=(10, 6));"
   ],
   "outputs": [
    {
     "data": {
      "text/plain": [
       "<Figure size 1000x600 with 1 Axes>"
      ],
      "image/png": "[encoded data removed]"
     },
     "metadata": {},
     "output_type": "display_data"
    }
   ],
   "execution_count": 12
  },
  {
   "cell_type": "markdown",
   "metadata": {},
   "source": [
    "## Baseline Prediction"
   ]
  },
  {
   "cell_type": "code",
   "metadata": {
    "ExecuteTime": {
     "end_time": "2024-05-27T07:29:59.740767Z",
     "start_time": "2024-05-27T07:29:59.738191Z"
    }
   },
   "source": [
    "lags = 5"
   ],
   "outputs": [],
   "execution_count": 13
  },
  {
   "cell_type": "code",
   "metadata": {
    "ExecuteTime": {
     "end_time": "2024-05-27T07:30:00.615068Z",
     "start_time": "2024-05-27T07:30:00.609122Z"
    }
   },
   "source": [
    "def add_lags(data, symbol, lags, window=20):\n",
    "    cols = []\n",
    "    df = data.copy()\n",
    "    df.dropna(inplace=True)\n",
    "    df['r'] = np.log(df / df.shift())\n",
    "    df['sma'] = df[symbol].rolling(window).mean()\n",
    "    df['min'] = df[symbol].rolling(window).min()\n",
    "    df['max'] = df[symbol].rolling(window).max()\n",
    "    df['mom'] = df['r'].rolling(window).mean()\n",
    "    df['vol'] = df['r'].rolling(window).std()\n",
    "    df.dropna(inplace=True)\n",
    "    df['d'] = np.where(df['r'] > 0, 1, 0)\n",
    "    features = [symbol, 'r', 'd', 'sma', 'min', 'max', 'mom', 'vol']\n",
    "    for f in features:\n",
    "        for lag in range(1, lags + 1):\n",
    "            col = f'{f}_lag_{lag}'\n",
    "            df[col] = df[f].shift(lag)\n",
    "            cols.append(col)\n",
    "    df.dropna(inplace=True)\n",
    "    return df, cols"
   ],
   "outputs": [],
   "execution_count": 14
  },
  {
   "cell_type": "code",
   "metadata": {
    "ExecuteTime": {
     "end_time": "2024-05-27T07:30:01.680008Z",
     "start_time": "2024-05-27T07:30:01.661941Z"
    }
   },
   "source": [
    "data, cols = add_lags(data, symbol, lags)"
   ],
   "outputs": [],
   "execution_count": 15
  },
  {
   "cell_type": "code",
   "metadata": {
    "ExecuteTime": {
     "end_time": "2024-05-27T07:30:02.596880Z",
     "start_time": "2024-05-27T07:30:02.592836Z"
    }
   },
   "source": [
    "len(data)"
   ],
   "outputs": [
    {
     "data": {
      "text/plain": [
       "2183"
      ]
     },
     "execution_count": 16,
     "metadata": {},
     "output_type": "execute_result"
    }
   ],
   "execution_count": 16
  },
  {
   "cell_type": "code",
   "metadata": {
    "ExecuteTime": {
     "end_time": "2024-05-27T07:30:03.690802Z",
     "start_time": "2024-05-27T07:30:03.688384Z"
    }
   },
   "source": [
    "# data.iloc[:10, :14].round(4)"
   ],
   "outputs": [],
   "execution_count": 17
  },
  {
   "cell_type": "code",
   "metadata": {
    "ExecuteTime": {
     "end_time": "2024-05-27T07:30:04.737393Z",
     "start_time": "2024-05-27T07:30:04.731646Z"
    }
   },
   "source": [
    "c = data['d'].value_counts()\n",
    "c"
   ],
   "outputs": [
    {
     "data": {
      "text/plain": [
       "d\n",
       "0    1445\n",
       "1     738\n",
       "Name: count, dtype: int64"
      ]
     },
     "execution_count": 18,
     "metadata": {},
     "output_type": "execute_result"
    }
   ],
   "execution_count": 18
  },
  {
   "cell_type": "code",
   "metadata": {
    "ExecuteTime": {
     "end_time": "2024-05-27T07:30:06.127797Z",
     "start_time": "2024-05-27T07:30:06.124761Z"
    }
   },
   "source": [
    "def cw(df):\n",
    "    c0, c1 = np.bincount(df['d'])\n",
    "    w0 = (1 / c0) * (len(df)) / 2\n",
    "    w1 = (1 / c1) * (len(df)) / 2\n",
    "    return {0: w0, 1: w1}"
   ],
   "outputs": [],
   "execution_count": 19
  },
  {
   "cell_type": "code",
   "metadata": {
    "ExecuteTime": {
     "end_time": "2024-05-27T07:30:07.142080Z",
     "start_time": "2024-05-27T07:30:07.139309Z"
    }
   },
   "source": [
    "class_weight = cw(data)"
   ],
   "outputs": [],
   "execution_count": 20
  },
  {
   "cell_type": "code",
   "metadata": {
    "ExecuteTime": {
     "end_time": "2024-05-27T07:30:07.928235Z",
     "start_time": "2024-05-27T07:30:07.924833Z"
    }
   },
   "source": [
    "class_weight"
   ],
   "outputs": [
    {
     "data": {
      "text/plain": [
       "{0: 0.755363321799308, 1: 1.4789972899728998}"
      ]
     },
     "execution_count": 21,
     "metadata": {},
     "output_type": "execute_result"
    }
   ],
   "execution_count": 21
  },
  {
   "cell_type": "code",
   "metadata": {
    "ExecuteTime": {
     "end_time": "2024-05-27T07:30:08.864609Z",
     "start_time": "2024-05-27T07:30:08.859459Z"
    }
   },
   "source": [
    "class_weight[0] * c[0]"
   ],
   "outputs": [
    {
     "data": {
      "text/plain": [
       "1091.5"
      ]
     },
     "execution_count": 22,
     "metadata": {},
     "output_type": "execute_result"
    }
   ],
   "execution_count": 22
  },
  {
   "cell_type": "code",
   "metadata": {
    "ExecuteTime": {
     "end_time": "2024-05-27T07:30:09.702220Z",
     "start_time": "2024-05-27T07:30:09.698975Z"
    }
   },
   "source": [
    "class_weight[1] * c[1]"
   ],
   "outputs": [
    {
     "data": {
      "text/plain": [
       "1091.5"
      ]
     },
     "execution_count": 23,
     "metadata": {},
     "output_type": "execute_result"
    }
   ],
   "execution_count": 23
  },
  {
   "cell_type": "code",
   "metadata": {
    "ExecuteTime": {
     "end_time": "2024-05-27T07:30:10.689274Z",
     "start_time": "2024-05-27T07:30:10.686529Z"
    }
   },
   "source": [
    "os.environ['TF_CPP_MIN_LOG_LEVEL'] = '5'"
   ],
   "outputs": [],
   "execution_count": 24
  },
  {
   "cell_type": "code",
   "metadata": {
    "ExecuteTime": {
     "end_time": "2024-05-27T07:30:15.179339Z",
     "start_time": "2024-05-27T07:30:11.651480Z"
    }
   },
   "source": [
    "import random\n",
    "import tensorflow as tf\n",
    "from tensorflow import keras\n",
    "from keras.layers import Dense\n",
    "from keras.models import Sequential\n",
    "from sklearn.metrics import accuracy_score"
   ],
   "outputs": [],
   "execution_count": 25
  },
  {
   "cell_type": "code",
   "metadata": {
    "ExecuteTime": {
     "end_time": "2024-05-27T07:30:17.024192Z",
     "start_time": "2024-05-27T07:30:17.021249Z"
    }
   },
   "source": [
    "def set_seeds(seed=100):\n",
    "    random.seed(seed)\n",
    "    np.random.seed(seed)\n",
    "    tf.random.set_seed(seed)"
   ],
   "outputs": [],
   "execution_count": 26
  },
  {
   "cell_type": "code",
   "metadata": {
    "ExecuteTime": {
     "end_time": "2024-05-27T07:30:18.358132Z",
     "start_time": "2024-05-27T07:30:18.137219Z"
    }
   },
   "source": [
    "optimizer = keras.optimizers.Adam(learning_rate=0.001)"
   ],
   "outputs": [
    {
     "ename": "ModuleNotFoundError",
     "evalue": "No module named 'keras.api._v2'",
     "output_type": "error",
     "traceback": [
      "\u001B[0;31m---------------------------------------------------------------------------\u001B[0m",
      "\u001B[0;31mModuleNotFoundError\u001B[0m                       Traceback (most recent call last)",
      "Cell \u001B[0;32mIn[27], line 1\u001B[0m\n\u001B[0;32m----> 1\u001B[0m optimizer \u001B[38;5;241m=\u001B[39m \u001B[43mkeras\u001B[49m\u001B[38;5;241;43m.\u001B[39;49m\u001B[43moptimizers\u001B[49m\u001B[38;5;241m.\u001B[39mAdam(learning_rate\u001B[38;5;241m=\u001B[39m\u001B[38;5;241m0.001\u001B[39m)\n",
      "File \u001B[0;32m~/opt/anaconda3/envs/dataspell/lib/python3.10/site-packages/tensorflow/python/util/lazy_loader.py:58\u001B[0m, in \u001B[0;36mLazyLoader.__getattr__\u001B[0;34m(self, item)\u001B[0m\n\u001B[1;32m     57\u001B[0m \u001B[38;5;28;01mdef\u001B[39;00m \u001B[38;5;21m__getattr__\u001B[39m(\u001B[38;5;28mself\u001B[39m, item):\n\u001B[0;32m---> 58\u001B[0m   module \u001B[38;5;241m=\u001B[39m \u001B[38;5;28;43mself\u001B[39;49m\u001B[38;5;241;43m.\u001B[39;49m\u001B[43m_load\u001B[49m\u001B[43m(\u001B[49m\u001B[43m)\u001B[49m\n\u001B[1;32m     59\u001B[0m   \u001B[38;5;28;01mreturn\u001B[39;00m \u001B[38;5;28mgetattr\u001B[39m(module, item)\n",
      "File \u001B[0;32m~/opt/anaconda3/envs/dataspell/lib/python3.10/site-packages/tensorflow/python/util/lazy_loader.py:41\u001B[0m, in \u001B[0;36mLazyLoader._load\u001B[0;34m(self)\u001B[0m\n\u001B[1;32m     39\u001B[0m \u001B[38;5;250m\u001B[39m\u001B[38;5;124;03m\"\"\"Load the module and insert it into the parent's globals.\"\"\"\u001B[39;00m\n\u001B[1;32m     40\u001B[0m \u001B[38;5;66;03m# Import the target module and insert it into the parent's namespace\u001B[39;00m\n\u001B[0;32m---> 41\u001B[0m module \u001B[38;5;241m=\u001B[39m \u001B[43mimportlib\u001B[49m\u001B[38;5;241;43m.\u001B[39;49m\u001B[43mimport_module\u001B[49m\u001B[43m(\u001B[49m\u001B[38;5;28;43mself\u001B[39;49m\u001B[38;5;241;43m.\u001B[39;49m\u001B[38;5;18;43m__name__\u001B[39;49m\u001B[43m)\u001B[49m\n\u001B[1;32m     42\u001B[0m \u001B[38;5;28mself\u001B[39m\u001B[38;5;241m.\u001B[39m_parent_module_globals[\u001B[38;5;28mself\u001B[39m\u001B[38;5;241m.\u001B[39m_local_name] \u001B[38;5;241m=\u001B[39m module\n\u001B[1;32m     44\u001B[0m \u001B[38;5;66;03m# Emit a warning if one was specified\u001B[39;00m\n",
      "File \u001B[0;32m~/opt/anaconda3/envs/dataspell/lib/python3.10/importlib/__init__.py:126\u001B[0m, in \u001B[0;36mimport_module\u001B[0;34m(name, package)\u001B[0m\n\u001B[1;32m    124\u001B[0m             \u001B[38;5;28;01mbreak\u001B[39;00m\n\u001B[1;32m    125\u001B[0m         level \u001B[38;5;241m+\u001B[39m\u001B[38;5;241m=\u001B[39m \u001B[38;5;241m1\u001B[39m\n\u001B[0;32m--> 126\u001B[0m \u001B[38;5;28;01mreturn\u001B[39;00m \u001B[43m_bootstrap\u001B[49m\u001B[38;5;241;43m.\u001B[39;49m\u001B[43m_gcd_import\u001B[49m\u001B[43m(\u001B[49m\u001B[43mname\u001B[49m\u001B[43m[\u001B[49m\u001B[43mlevel\u001B[49m\u001B[43m:\u001B[49m\u001B[43m]\u001B[49m\u001B[43m,\u001B[49m\u001B[43m \u001B[49m\u001B[43mpackage\u001B[49m\u001B[43m,\u001B[49m\u001B[43m \u001B[49m\u001B[43mlevel\u001B[49m\u001B[43m)\u001B[49m\n",
      "File \u001B[0;32m<frozen importlib._bootstrap>:1050\u001B[0m, in \u001B[0;36m_gcd_import\u001B[0;34m(name, package, level)\u001B[0m\n",
      "File \u001B[0;32m<frozen importlib._bootstrap>:1027\u001B[0m, in \u001B[0;36m_find_and_load\u001B[0;34m(name, import_)\u001B[0m\n",
      "File \u001B[0;32m<frozen importlib._bootstrap>:992\u001B[0m, in \u001B[0;36m_find_and_load_unlocked\u001B[0;34m(name, import_)\u001B[0m\n",
      "File \u001B[0;32m<frozen importlib._bootstrap>:241\u001B[0m, in \u001B[0;36m_call_with_frames_removed\u001B[0;34m(f, *args, **kwds)\u001B[0m\n",
      "File \u001B[0;32m<frozen importlib._bootstrap>:1050\u001B[0m, in \u001B[0;36m_gcd_import\u001B[0;34m(name, package, level)\u001B[0m\n",
      "File \u001B[0;32m<frozen importlib._bootstrap>:1027\u001B[0m, in \u001B[0;36m_find_and_load\u001B[0;34m(name, import_)\u001B[0m\n",
      "File \u001B[0;32m<frozen importlib._bootstrap>:1004\u001B[0m, in \u001B[0;36m_find_and_load_unlocked\u001B[0;34m(name, import_)\u001B[0m\n",
      "\u001B[0;31mModuleNotFoundError\u001B[0m: No module named 'keras.api._v2'"
     ]
    }
   ],
   "execution_count": 27
  },
  {
   "cell_type": "code",
   "execution_count": null,
   "metadata": {},
   "outputs": [],
   "source": [
    "def create_model(hl=1, hu=128, optimizer=optimizer):\n",
    "    model = Sequential()\n",
    "    model.add(Dense(hu, input_dim=len(cols),\n",
    "                    activation='relu'))\n",
    "    for _ in range(hl):\n",
    "        model.add(Dense(hu, activation='relu'))\n",
    "    model.add(Dense(1, activation='sigmoid'))\n",
    "    model.compile(loss='binary_crossentropy',\n",
    "                  optimizer=optimizer,\n",
    "                  metrics=['accuracy'])\n",
    "    return model"
   ]
  },
  {
   "cell_type": "code",
   "execution_count": null,
   "metadata": {},
   "outputs": [],
   "source": [
    "set_seeds()\n",
    "model = create_model(hl=1, hu=128)"
   ]
  },
  {
   "cell_type": "code",
   "execution_count": null,
   "metadata": {},
   "outputs": [],
   "source": [
    "%%time\n",
    "model.fit(data[cols], data['d'], epochs=50,\n",
    "          verbose=False, class_weight=cw(data))"
   ]
  },
  {
   "cell_type": "code",
   "execution_count": null,
   "metadata": {},
   "outputs": [],
   "source": [
    "model.evaluate(data[cols], data['d'])"
   ]
  },
  {
   "cell_type": "code",
   "execution_count": null,
   "metadata": {},
   "outputs": [],
   "source": [
    "data['p'] = np.where(model.predict(data[cols]) > 0.5, 1, 0)"
   ]
  },
  {
   "cell_type": "code",
   "execution_count": null,
   "metadata": {},
   "outputs": [],
   "source": [
    "data['p'].value_counts()"
   ]
  },
  {
   "cell_type": "code",
   "execution_count": null,
   "metadata": {},
   "outputs": [],
   "source": [
    "split = int(len(data) * 0.8)"
   ]
  },
  {
   "cell_type": "code",
   "execution_count": null,
   "metadata": {},
   "outputs": [],
   "source": [
    "train = data.iloc[:split].copy()"
   ]
  },
  {
   "cell_type": "code",
   "execution_count": null,
   "metadata": {},
   "outputs": [],
   "source": [
    "test = data.iloc[split:].copy()"
   ]
  },
  {
   "cell_type": "code",
   "execution_count": null,
   "metadata": {},
   "outputs": [],
   "source": [
    "set_seeds()\n",
    "model = create_model(hl=1, hu=128)"
   ]
  },
  {
   "cell_type": "code",
   "execution_count": null,
   "metadata": {},
   "outputs": [],
   "source": [
    "%%time \n",
    "hist = model.fit(train[cols], train['d'],\n",
    "          epochs=50, verbose=False,\n",
    "          validation_split=0.2, shuffle=False,\n",
    "          class_weight=cw(train))"
   ]
  },
  {
   "cell_type": "code",
   "execution_count": null,
   "metadata": {},
   "outputs": [],
   "source": [
    "model.evaluate(train[cols], train['d'])"
   ]
  },
  {
   "cell_type": "code",
   "execution_count": null,
   "metadata": {},
   "outputs": [],
   "source": [
    "model.evaluate(test[cols], test['d'])"
   ]
  },
  {
   "cell_type": "code",
   "execution_count": null,
   "metadata": {},
   "outputs": [],
   "source": [
    "test['p'] = np.where(model.predict(test[cols]) > 0.5, 1, 0)"
   ]
  },
  {
   "cell_type": "code",
   "execution_count": null,
   "metadata": {},
   "outputs": [],
   "source": [
    "test['p'].value_counts()"
   ]
  },
  {
   "cell_type": "code",
   "execution_count": null,
   "metadata": {},
   "outputs": [],
   "source": [
    "res = pd.DataFrame(hist.history)"
   ]
  },
  {
   "cell_type": "code",
   "execution_count": null,
   "metadata": {},
   "outputs": [],
   "source": [
    "res[['accuracy', 'val_accuracy']].plot(figsize=(10, 6), style='--');"
   ]
  },
  {
   "cell_type": "markdown",
   "metadata": {},
   "source": [
    "## Normalization"
   ]
  },
  {
   "cell_type": "code",
   "execution_count": null,
   "metadata": {},
   "outputs": [],
   "source": [
    "mu, std = train.mean(), train.std()"
   ]
  },
  {
   "cell_type": "code",
   "execution_count": null,
   "metadata": {},
   "outputs": [],
   "source": [
    "train_ = (train - mu) / std"
   ]
  },
  {
   "cell_type": "code",
   "execution_count": null,
   "metadata": {},
   "outputs": [],
   "source": [
    "# train_.std().round(3)"
   ]
  },
  {
   "cell_type": "code",
   "execution_count": null,
   "metadata": {},
   "outputs": [],
   "source": [
    "set_seeds()\n",
    "model = create_model(hl=2, hu=128)"
   ]
  },
  {
   "cell_type": "code",
   "execution_count": null,
   "metadata": {},
   "outputs": [],
   "source": [
    "%%time \n",
    "hist = model.fit(train_[cols], train['d'],\n",
    "          epochs=50, verbose=False,\n",
    "          validation_split=0.2, shuffle=False,\n",
    "          class_weight=cw(train))"
   ]
  },
  {
   "cell_type": "code",
   "execution_count": null,
   "metadata": {},
   "outputs": [],
   "source": [
    "model.evaluate(train_[cols], train['d'])"
   ]
  },
  {
   "cell_type": "code",
   "execution_count": null,
   "metadata": {},
   "outputs": [],
   "source": [
    "test_ = (test - mu) / std"
   ]
  },
  {
   "cell_type": "code",
   "execution_count": null,
   "metadata": {},
   "outputs": [],
   "source": [
    "model.evaluate(test_[cols], test['d'])"
   ]
  },
  {
   "cell_type": "code",
   "execution_count": null,
   "metadata": {},
   "outputs": [],
   "source": [
    "test['p'] = np.where(model.predict(test_[cols]) > 0.5, 1, 0)"
   ]
  },
  {
   "cell_type": "code",
   "execution_count": null,
   "metadata": {},
   "outputs": [],
   "source": [
    "test['p'].value_counts()"
   ]
  },
  {
   "cell_type": "code",
   "execution_count": null,
   "metadata": {},
   "outputs": [],
   "source": [
    "res = pd.DataFrame(hist.history)"
   ]
  },
  {
   "cell_type": "code",
   "execution_count": null,
   "metadata": {},
   "outputs": [],
   "source": [
    "res[['accuracy', 'val_accuracy']].plot(figsize=(10, 6), style='--');"
   ]
  },
  {
   "cell_type": "markdown",
   "metadata": {},
   "source": [
    "## Dropout "
   ]
  },
  {
   "cell_type": "code",
   "execution_count": null,
   "metadata": {},
   "outputs": [],
   "source": [
    "from keras.layers import Dropout"
   ]
  },
  {
   "cell_type": "code",
   "execution_count": null,
   "metadata": {},
   "outputs": [],
   "source": [
    "def create_model(hl=1, hu=128, dropout=True, rate=0.3,\n",
    "                 optimizer=optimizer):\n",
    "    model = Sequential()\n",
    "    model.add(Dense(hu, input_dim=len(cols),\n",
    "                    activation='relu'))\n",
    "    if dropout:\n",
    "        model.add(Dropout(rate, seed=100))\n",
    "    for _ in range(hl):\n",
    "        model.add(Dense(hu, activation='relu'))\n",
    "        if dropout:\n",
    "            model.add(Dropout(rate, seed=100))\n",
    "    model.add(Dense(1, activation='sigmoid'))\n",
    "    model.compile(loss='binary_crossentropy', optimizer=optimizer,\n",
    "                 metrics=['accuracy'])\n",
    "    return model"
   ]
  },
  {
   "cell_type": "code",
   "execution_count": null,
   "metadata": {},
   "outputs": [],
   "source": [
    "set_seeds()\n",
    "model = create_model(hl=1, hu=128, rate=0.3)"
   ]
  },
  {
   "cell_type": "code",
   "execution_count": null,
   "metadata": {},
   "outputs": [],
   "source": [
    "%%time \n",
    "hist = model.fit(train_[cols], train['d'],\n",
    "          epochs=50, verbose=False,\n",
    "          validation_split=0.15, shuffle=False,\n",
    "          class_weight=cw(train))"
   ]
  },
  {
   "cell_type": "code",
   "execution_count": null,
   "metadata": {},
   "outputs": [],
   "source": [
    "model.evaluate(train_[cols], train['d'])"
   ]
  },
  {
   "cell_type": "code",
   "execution_count": null,
   "metadata": {},
   "outputs": [],
   "source": [
    "model.evaluate(test_[cols], test['d'])"
   ]
  },
  {
   "cell_type": "code",
   "execution_count": null,
   "metadata": {},
   "outputs": [],
   "source": [
    "res = pd.DataFrame(hist.history)"
   ]
  },
  {
   "cell_type": "code",
   "execution_count": null,
   "metadata": {},
   "outputs": [],
   "source": [
    "res[['accuracy', 'val_accuracy']].plot(figsize=(10, 6), style='--');"
   ]
  },
  {
   "cell_type": "markdown",
   "metadata": {},
   "source": [
    "## Regularization "
   ]
  },
  {
   "cell_type": "code",
   "execution_count": null,
   "metadata": {},
   "outputs": [],
   "source": [
    "from keras.regularizers import l1, l2"
   ]
  },
  {
   "cell_type": "code",
   "execution_count": null,
   "metadata": {},
   "outputs": [],
   "source": [
    "def create_model(hl=1, hu=128, dropout=False, rate=0.3, \n",
    "                 regularize=False, reg=l1(0.0005),\n",
    "                 optimizer=optimizer, input_dim=len(cols)):\n",
    "    if not regularize:\n",
    "        reg = None\n",
    "    model = Sequential()\n",
    "    model.add(Dense(hu, input_dim=input_dim,\n",
    "                    activity_regularizer=reg,\n",
    "                    activation='relu'))\n",
    "    if dropout:\n",
    "        model.add(Dropout(rate, seed=100))\n",
    "    for _ in range(hl):\n",
    "        model.add(Dense(hu, activation='relu',\n",
    "                        activity_regularizer=reg))\n",
    "        if dropout:\n",
    "            model.add(Dropout(rate, seed=100))\n",
    "    model.add(Dense(1, activation='sigmoid'))\n",
    "    model.compile(loss='binary_crossentropy', optimizer=optimizer,\n",
    "                 metrics=['accuracy'])\n",
    "    return model"
   ]
  },
  {
   "cell_type": "code",
   "execution_count": null,
   "metadata": {},
   "outputs": [],
   "source": [
    "set_seeds()\n",
    "model = create_model(hl=1, hu=128, regularize=True)"
   ]
  },
  {
   "cell_type": "code",
   "execution_count": null,
   "metadata": {},
   "outputs": [],
   "source": [
    "%%time \n",
    "hist = model.fit(train_[cols], train['d'],\n",
    "          epochs=50, verbose=False,\n",
    "          validation_split=0.2, shuffle=False,\n",
    "          class_weight=cw(train))"
   ]
  },
  {
   "cell_type": "code",
   "execution_count": null,
   "metadata": {},
   "outputs": [],
   "source": [
    "model.evaluate(train_[cols], train['d'])"
   ]
  },
  {
   "cell_type": "code",
   "execution_count": null,
   "metadata": {},
   "outputs": [],
   "source": [
    "model.evaluate(test_[cols], test['d'])"
   ]
  },
  {
   "cell_type": "code",
   "execution_count": null,
   "metadata": {},
   "outputs": [],
   "source": [
    "res = pd.DataFrame(hist.history)"
   ]
  },
  {
   "cell_type": "code",
   "execution_count": null,
   "metadata": {},
   "outputs": [],
   "source": [
    "res[['accuracy', 'val_accuracy']].plot(figsize=(10, 6), style='--');"
   ]
  },
  {
   "cell_type": "code",
   "execution_count": null,
   "metadata": {},
   "outputs": [],
   "source": [
    "set_seeds()\n",
    "model = create_model(hl=2, hu=128,\n",
    "                     dropout=True, rate=0.3,\n",
    "                     regularize=True, reg=l2(0.001),\n",
    "                    )"
   ]
  },
  {
   "cell_type": "code",
   "execution_count": null,
   "metadata": {},
   "outputs": [],
   "source": [
    "%%time \n",
    "hist = model.fit(train_[cols], train['d'],\n",
    "          epochs=50, verbose=False,\n",
    "          validation_split=0.2, shuffle=False,\n",
    "          class_weight=cw(train))"
   ]
  },
  {
   "cell_type": "code",
   "execution_count": null,
   "metadata": {},
   "outputs": [],
   "source": [
    "model.evaluate(train_[cols], train['d'])"
   ]
  },
  {
   "cell_type": "code",
   "execution_count": null,
   "metadata": {},
   "outputs": [],
   "source": [
    "model.evaluate(test_[cols], test['d'])"
   ]
  },
  {
   "cell_type": "code",
   "execution_count": null,
   "metadata": {},
   "outputs": [],
   "source": [
    "res = pd.DataFrame(hist.history)"
   ]
  },
  {
   "cell_type": "code",
   "execution_count": null,
   "metadata": {},
   "outputs": [],
   "source": [
    "res[['accuracy', 'val_accuracy']].plot(figsize=(10, 6), style='--');"
   ]
  },
  {
   "cell_type": "code",
   "execution_count": null,
   "metadata": {},
   "outputs": [],
   "source": [
    "res.mean()['accuracy'] - res.mean()['val_accuracy']"
   ]
  },
  {
   "cell_type": "markdown",
   "metadata": {},
   "source": [
    "## Bagging"
   ]
  },
  {
   "cell_type": "code",
   "execution_count": null,
   "metadata": {},
   "outputs": [],
   "source": [
    "from sklearn.ensemble import BaggingClassifier\n",
    "# from keras.wrappers.scikit_learn import KerasClassifier\n",
    "from scikeras.wrappers import KerasClassifier"
   ]
  },
  {
   "cell_type": "code",
   "execution_count": null,
   "metadata": {},
   "outputs": [],
   "source": [
    "len(cols)"
   ]
  },
  {
   "cell_type": "code",
   "execution_count": null,
   "metadata": {},
   "outputs": [],
   "source": [
    "max_features = 0.75"
   ]
  },
  {
   "cell_type": "code",
   "execution_count": null,
   "metadata": {},
   "outputs": [],
   "source": [
    "set_seeds()\n",
    "base_estimator = KerasClassifier(model=create_model,\n",
    "                        verbose=False, epochs=20, hl=1, hu=128,\n",
    "                        dropout=True, regularize=False,\n",
    "                        input_dim=int(len(cols) * max_features))"
   ]
  },
  {
   "cell_type": "code",
   "execution_count": null,
   "metadata": {},
   "outputs": [],
   "source": [
    "model_bag = BaggingClassifier(base_estimator=base_estimator,\n",
    "                          n_estimators=15,\n",
    "                          max_samples=0.75,\n",
    "                          max_features=max_features,\n",
    "                          bootstrap=True,\n",
    "                          bootstrap_features=True,\n",
    "                          n_jobs=1,\n",
    "                          random_state=100,\n",
    "                         )"
   ]
  },
  {
   "cell_type": "code",
   "execution_count": null,
   "metadata": {},
   "outputs": [],
   "source": [
    "%time model_bag.fit(train_[cols], train['d'])"
   ]
  },
  {
   "cell_type": "code",
   "execution_count": null,
   "metadata": {},
   "outputs": [],
   "source": [
    "model_bag.score(train_[cols], train['d'])"
   ]
  },
  {
   "cell_type": "code",
   "execution_count": null,
   "metadata": {},
   "outputs": [],
   "source": [
    "model_bag.score(test_[cols], test['d'])"
   ]
  },
  {
   "cell_type": "code",
   "execution_count": null,
   "metadata": {},
   "outputs": [],
   "source": [
    "test['p'] = model_bag.predict(test_[cols])"
   ]
  },
  {
   "cell_type": "code",
   "execution_count": null,
   "metadata": {},
   "outputs": [],
   "source": [
    "test['p'].value_counts()"
   ]
  },
  {
   "cell_type": "markdown",
   "metadata": {},
   "source": [
    "## Optimizers"
   ]
  },
  {
   "cell_type": "code",
   "execution_count": null,
   "metadata": {},
   "outputs": [],
   "source": [
    "import time"
   ]
  },
  {
   "cell_type": "code",
   "execution_count": null,
   "metadata": {},
   "outputs": [],
   "source": [
    "optimizers = ['sgd', 'rmsprop', 'adagrad', 'adadelta',\n",
    "              'adam', 'adamax', 'nadam']"
   ]
  },
  {
   "cell_type": "code",
   "execution_count": null,
   "metadata": {},
   "outputs": [],
   "source": [
    "%%time\n",
    "for optimizer in optimizers:\n",
    "    set_seeds()\n",
    "    model = create_model(hl=1, hu=128,\n",
    "                     dropout=True, rate=0.3,\n",
    "                     regularize=False, reg=l2(0.001),\n",
    "                     optimizer=optimizer\n",
    "                    )\n",
    "    t0 = time.time()\n",
    "    model.fit(train_[cols], train['d'],\n",
    "              epochs=50, verbose=False,\n",
    "              validation_split=0.2, shuffle=False,\n",
    "              class_weight=cw(train))\n",
    "    t1 = time.time()\n",
    "    t = t1 - t0\n",
    "    acc_tr = model.evaluate(train_[cols], train['d'], verbose=False)[1]\n",
    "    acc_te = model.evaluate(test_[cols], test['d'], verbose=False)[1]\n",
    "    out = f'{optimizer:10s} | time[s]: {t:.4f} | in-sample={acc_tr:.4f}'\n",
    "    out += f' | out-of-sample={acc_te:.4f}'\n",
    "    print(out)"
   ]
  },
  {
   "cell_type": "code",
   "execution_count": null,
   "metadata": {},
   "outputs": [],
   "source": [
    "test['p'] = np.where(model.predict(test_[cols]) > 0.5, 1, 0)"
   ]
  },
  {
   "cell_type": "code",
   "execution_count": null,
   "metadata": {},
   "outputs": [],
   "source": [
    "test['p'].value_counts()"
   ]
  },
  {
   "cell_type": "code",
   "execution_count": null,
   "metadata": {},
   "outputs": [],
   "source": [
    "accuracy_score(test['p'], test['d'])"
   ]
  },
  {
   "cell_type": "markdown",
   "metadata": {},
   "source": [
    "<img src='http://hilpisch.com/taim_logo.png' width=\"350px\" align=\"right\">\n",
    "\n",
    "<br><br><br><a href=\"http://tpq.io\" target=\"_blank\">http://tpq.io</a> | <a href=\"http://twitter.com/dyjh\" target=\"_blank\">@dyjh</a> | <a href=\"mailto:ai@tpq.io\">ai@tpq.io</a>"
   ]
  }
 ],
 "metadata": {
  "kernelspec": {
   "display_name": "Python 3 (ipykernel)",
   "language": "python",
   "name": "python3"
  },
  "language_info": {
   "codemirror_mode": {
    "name": "ipython",
    "version": 3
   },
   "file_extension": ".py",
   "mimetype": "text/x-python",
   "name": "python",
   "nbconvert_exporter": "python",
   "pygments_lexer": "ipython3",
   "version": "3.8.12"
  }
 },
 "nbformat": 4,
 "nbformat_minor": 4
}

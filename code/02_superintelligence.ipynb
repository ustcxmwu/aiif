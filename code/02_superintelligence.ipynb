{
 "cells": [
  {
   "cell_type": "markdown",
   "metadata": {},
   "source": [
    "<img src='http://hilpisch.com/taim_logo.png' width=\"350px\" align=\"right\">"
   ]
  },
  {
   "cell_type": "markdown",
   "metadata": {},
   "source": [
    "# Artificial Intelligence in Finance"
   ]
  },
  {
   "cell_type": "markdown",
   "metadata": {},
   "source": [
    "## Superintelligence"
   ]
  },
  {
   "cell_type": "markdown",
   "metadata": {},
   "source": [
    "Dr Yves J Hilpisch | The AI Machine\n",
    "\n",
    "http://aimachine.io | http://twitter.com/dyjh"
   ]
  },
  {
   "cell_type": "code",
   "metadata": {
    "ExecuteTime": {
     "end_time": "2024-05-27T06:39:58.618335Z",
     "start_time": "2024-05-27T06:39:58.595615Z"
    }
   },
   "source": [
    "import gym\n",
    "import numpy as np\n",
    "import pandas as pd\n",
    "np.random.seed(100)"
   ],
   "outputs": [],
   "execution_count": 18
  },
  {
   "cell_type": "code",
   "metadata": {
    "ExecuteTime": {
     "end_time": "2024-05-27T06:39:59.290929Z",
     "start_time": "2024-05-27T06:39:59.274442Z"
    }
   },
   "source": "env = gym.make('CartPole-v1')",
   "outputs": [],
   "execution_count": 19
  },
  {
   "cell_type": "code",
   "metadata": {
    "ExecuteTime": {
     "end_time": "2024-05-27T06:39:59.932058Z",
     "start_time": "2024-05-27T06:39:59.926834Z"
    }
   },
   "source": "env.reset(seed=100)",
   "outputs": [
    {
     "data": {
      "text/plain": [
       "(array([ 0.03349816,  0.0096554 , -0.02111368, -0.04570484], dtype=float32),\n",
       " {})"
      ]
     },
     "execution_count": 20,
     "metadata": {},
     "output_type": "execute_result"
    }
   ],
   "execution_count": 20
  },
  {
   "cell_type": "code",
   "metadata": {
    "ExecuteTime": {
     "end_time": "2024-05-27T06:40:06.550529Z",
     "start_time": "2024-05-27T06:40:06.546072Z"
    }
   },
   "source": [
    "action_size = env.action_space.n\n",
    "action_size"
   ],
   "outputs": [
    {
     "data": {
      "text/plain": [
       "2"
      ]
     },
     "execution_count": 21,
     "metadata": {},
     "output_type": "execute_result"
    }
   ],
   "execution_count": 21
  },
  {
   "cell_type": "code",
   "metadata": {
    "ExecuteTime": {
     "end_time": "2024-05-27T06:40:07.557060Z",
     "start_time": "2024-05-27T06:40:07.547641Z"
    }
   },
   "source": [
    "[env.action_space.sample() for _ in range(10)]"
   ],
   "outputs": [
    {
     "data": {
      "text/plain": [
       "[0, 1, 0, 0, 1, 1, 0, 0, 1, 1]"
      ]
     },
     "execution_count": 22,
     "metadata": {},
     "output_type": "execute_result"
    }
   ],
   "execution_count": 22
  },
  {
   "cell_type": "code",
   "metadata": {
    "ExecuteTime": {
     "end_time": "2024-05-27T06:40:08.209499Z",
     "start_time": "2024-05-27T06:40:08.204011Z"
    }
   },
   "source": [
    "state_size = env.observation_space.shape[0]\n",
    "state_size"
   ],
   "outputs": [
    {
     "data": {
      "text/plain": [
       "4"
      ]
     },
     "execution_count": 23,
     "metadata": {},
     "output_type": "execute_result"
    }
   ],
   "execution_count": 23
  },
  {
   "cell_type": "code",
   "metadata": {
    "ExecuteTime": {
     "end_time": "2024-05-27T06:40:21.367723Z",
     "start_time": "2024-05-27T06:40:21.359451Z"
    }
   },
   "source": [
    "state = env.reset(seed=100)\n",
    "state  # [cart position, cart velocity, pole angle, pole angular velocity]"
   ],
   "outputs": [
    {
     "data": {
      "text/plain": [
       "(array([ 0.03349816,  0.0096554 , -0.02111368, -0.04570484], dtype=float32),\n",
       " {})"
      ]
     },
     "execution_count": 25,
     "metadata": {},
     "output_type": "execute_result"
    }
   ],
   "execution_count": 25
  },
  {
   "cell_type": "code",
   "metadata": {
    "ExecuteTime": {
     "end_time": "2024-05-27T06:41:39.994188Z",
     "start_time": "2024-05-27T06:41:39.985004Z"
    }
   },
   "source": [
    "state, reward, done, _, _ = env.step(env.action_space.sample())\n",
    "state, reward, done, _"
   ],
   "outputs": [
    {
     "data": {
      "text/plain": [
       "(array([ 0.03779274,  0.01027186, -0.02892725, -0.05931769], dtype=float32),\n",
       " 1.0,\n",
       " False,\n",
       " {})"
      ]
     },
     "execution_count": 27,
     "metadata": {},
     "output_type": "execute_result"
    }
   ],
   "execution_count": 27
  },
  {
   "cell_type": "code",
   "metadata": {
    "ExecuteTime": {
     "end_time": "2024-05-27T06:46:57.160208Z",
     "start_time": "2024-05-27T06:46:52.786581Z"
    }
   },
   "source": [
    "%%time\n",
    "data = pd.DataFrame()\n",
    "state = env.reset()\n",
    "length = []\n",
    "for run in range(25000):\n",
    "    done = False\n",
    "    prev_state, _ = env.reset()\n",
    "    treward = 1\n",
    "    results = []\n",
    "    while not done:\n",
    "        action = env.action_space.sample()\n",
    "        state, reward, done, _, _ = env.step(action)\n",
    "        results.append({'s1': prev_state[0], 's2': prev_state[1],\n",
    "                        's3': prev_state[2], 's4': prev_state[3],\n",
    "                        'a': action, 'r': reward})\n",
    "        treward += reward if not done else 0\n",
    "        prev_state = state\n",
    "    if treward >= 110:\n",
    "        data = pd.concat([data, pd.DataFrame(results)])\n",
    "        length.append(treward)"
   ],
   "outputs": [
    {
     "name": "stdout",
     "output_type": "stream",
     "text": [
      "CPU times: user 4.23 s, sys: 56.2 ms, total: 4.28 s\n",
      "Wall time: 4.35 s\n"
     ]
    }
   ],
   "execution_count": 34
  },
  {
   "cell_type": "code",
   "metadata": {
    "ExecuteTime": {
     "end_time": "2024-05-27T06:47:02.401719Z",
     "start_time": "2024-05-27T06:47:02.394331Z"
    }
   },
   "source": [
    "np.array(length).mean()"
   ],
   "outputs": [
    {
     "data": {
      "text/plain": [
       "116.8"
      ]
     },
     "execution_count": 35,
     "metadata": {},
     "output_type": "execute_result"
    }
   ],
   "execution_count": 35
  },
  {
   "cell_type": "code",
   "metadata": {
    "ExecuteTime": {
     "end_time": "2024-05-27T06:47:05.242177Z",
     "start_time": "2024-05-27T06:47:05.215173Z"
    }
   },
   "source": [
    "data.info()"
   ],
   "outputs": [
    {
     "name": "stdout",
     "output_type": "stream",
     "text": [
      "<class 'pandas.core.frame.DataFrame'>\n",
      "Index: 584 entries, 0 to 112\n",
      "Data columns (total 6 columns):\n",
      " #   Column  Non-Null Count  Dtype  \n",
      "---  ------  --------------  -----  \n",
      " 0   s1      584 non-null    float32\n",
      " 1   s2      584 non-null    float32\n",
      " 2   s3      584 non-null    float32\n",
      " 3   s4      584 non-null    float32\n",
      " 4   a       584 non-null    int64  \n",
      " 5   r       584 non-null    float64\n",
      "dtypes: float32(4), float64(1), int64(1)\n",
      "memory usage: 22.8 KB\n"
     ]
    }
   ],
   "execution_count": 36
  },
  {
   "cell_type": "code",
   "metadata": {
    "ExecuteTime": {
     "end_time": "2024-05-27T06:47:12.284567Z",
     "start_time": "2024-05-27T06:47:12.274698Z"
    }
   },
   "source": [
    "data.tail()"
   ],
   "outputs": [
    {
     "data": {
      "text/plain": [
       "           s1        s2        s3        s4  a    r\n",
       "108 -0.424366 -0.293430 -0.145489 -0.514591  1  1.0\n",
       "109 -0.430235 -0.096591 -0.155781 -0.849353  0  1.0\n",
       "110 -0.432167 -0.289285 -0.172768 -0.609428  1  1.0\n",
       "111 -0.437952 -0.092222 -0.184956 -0.951162  0  1.0\n",
       "112 -0.439797 -0.284439 -0.203980 -0.721823  0  1.0"
      ],
      "text/html": [
       "<div>\n",
       "<style scoped>\n",
       "    .dataframe tbody tr th:only-of-type {\n",
       "        vertical-align: middle;\n",
       "    }\n",
       "\n",
       "    .dataframe tbody tr th {\n",
       "        vertical-align: top;\n",
       "    }\n",
       "\n",
       "    .dataframe thead th {\n",
       "        text-align: right;\n",
       "    }\n",
       "</style>\n",
       "<table border=\"1\" class=\"dataframe\">\n",
       "  <thead>\n",
       "    <tr style=\"text-align: right;\">\n",
       "      <th></th>\n",
       "      <th>s1</th>\n",
       "      <th>s2</th>\n",
       "      <th>s3</th>\n",
       "      <th>s4</th>\n",
       "      <th>a</th>\n",
       "      <th>r</th>\n",
       "    </tr>\n",
       "  </thead>\n",
       "  <tbody>\n",
       "    <tr>\n",
       "      <th>108</th>\n",
       "      <td>-0.424366</td>\n",
       "      <td>-0.293430</td>\n",
       "      <td>-0.145489</td>\n",
       "      <td>-0.514591</td>\n",
       "      <td>1</td>\n",
       "      <td>1.0</td>\n",
       "    </tr>\n",
       "    <tr>\n",
       "      <th>109</th>\n",
       "      <td>-0.430235</td>\n",
       "      <td>-0.096591</td>\n",
       "      <td>-0.155781</td>\n",
       "      <td>-0.849353</td>\n",
       "      <td>0</td>\n",
       "      <td>1.0</td>\n",
       "    </tr>\n",
       "    <tr>\n",
       "      <th>110</th>\n",
       "      <td>-0.432167</td>\n",
       "      <td>-0.289285</td>\n",
       "      <td>-0.172768</td>\n",
       "      <td>-0.609428</td>\n",
       "      <td>1</td>\n",
       "      <td>1.0</td>\n",
       "    </tr>\n",
       "    <tr>\n",
       "      <th>111</th>\n",
       "      <td>-0.437952</td>\n",
       "      <td>-0.092222</td>\n",
       "      <td>-0.184956</td>\n",
       "      <td>-0.951162</td>\n",
       "      <td>0</td>\n",
       "      <td>1.0</td>\n",
       "    </tr>\n",
       "    <tr>\n",
       "      <th>112</th>\n",
       "      <td>-0.439797</td>\n",
       "      <td>-0.284439</td>\n",
       "      <td>-0.203980</td>\n",
       "      <td>-0.721823</td>\n",
       "      <td>0</td>\n",
       "      <td>1.0</td>\n",
       "    </tr>\n",
       "  </tbody>\n",
       "</table>\n",
       "</div>"
      ]
     },
     "execution_count": 37,
     "metadata": {},
     "output_type": "execute_result"
    }
   ],
   "execution_count": 37
  },
  {
   "cell_type": "code",
   "metadata": {
    "ExecuteTime": {
     "end_time": "2024-05-27T06:47:18.681063Z",
     "start_time": "2024-05-27T06:47:18.677576Z"
    }
   },
   "source": [
    "import os\n",
    "os.environ['TF_CPP_MIN_LOG_LEVEL'] = '3'"
   ],
   "outputs": [],
   "execution_count": 38
  },
  {
   "cell_type": "code",
   "metadata": {
    "ExecuteTime": {
     "end_time": "2024-05-27T06:47:49.150315Z",
     "start_time": "2024-05-27T06:47:49.050403Z"
    }
   },
   "source": [
    "from pylab import plt\n",
    "plt.style.use('seaborn-v0_8')\n",
    "%matplotlib inline"
   ],
   "outputs": [],
   "execution_count": 42
  },
  {
   "cell_type": "code",
   "metadata": {
    "ExecuteTime": {
     "end_time": "2024-05-27T06:47:50.549807Z",
     "start_time": "2024-05-27T06:47:50.540615Z"
    }
   },
   "source": [
    "import tensorflow as tf\n",
    "from tensorflow import keras\n",
    "tf.random.set_seed(100)"
   ],
   "outputs": [],
   "execution_count": 43
  },
  {
   "cell_type": "code",
   "metadata": {
    "ExecuteTime": {
     "end_time": "2024-05-27T06:47:51.463980Z",
     "start_time": "2024-05-27T06:47:51.453425Z"
    }
   },
   "source": [
    "from tensorflow.python.framework.ops import disable_eager_execution\n",
    "disable_eager_execution()"
   ],
   "outputs": [],
   "execution_count": 44
  },
  {
   "cell_type": "code",
   "metadata": {
    "ExecuteTime": {
     "end_time": "2024-05-27T06:47:52.790923Z",
     "start_time": "2024-05-27T06:47:52.787010Z"
    }
   },
   "source": [
    "from keras.layers import Dense\n",
    "from keras.models import Sequential"
   ],
   "outputs": [],
   "execution_count": 45
  },
  {
   "cell_type": "code",
   "metadata": {
    "ExecuteTime": {
     "end_time": "2024-05-27T06:47:54.548386Z",
     "start_time": "2024-05-27T06:47:54.316887Z"
    }
   },
   "source": [
    "model = Sequential()\n",
    "model.add(Dense(64, activation='relu',\n",
    "                input_dim=env.observation_space.shape[0]))\n",
    "model.add(Dense(1, activation='sigmoid'))\n",
    "model.compile(loss='binary_crossentropy',\n",
    "              optimizer='adam',\n",
    "              metrics=['acc'])"
   ],
   "outputs": [],
   "execution_count": 46
  },
  {
   "cell_type": "code",
   "metadata": {
    "ExecuteTime": {
     "end_time": "2024-05-27T06:47:56.409556Z",
     "start_time": "2024-05-27T06:47:55.712718Z"
    }
   },
   "source": [
    "%%time\n",
    "model.fit(data[['s1', 's2', 's3', 's4']], data['a'],\n",
    "          epochs=25, verbose=False, validation_split=0.2)"
   ],
   "outputs": [
    {
     "name": "stdout",
     "output_type": "stream",
     "text": [
      "CPU times: user 381 ms, sys: 142 ms, total: 523 ms\n",
      "Wall time: 693 ms\n"
     ]
    },
    {
     "name": "stderr",
     "output_type": "stream",
     "text": [
      "/Users/wuxiaomin/opt/anaconda3/envs/dataspell/lib/python3.10/site-packages/keras/engine/training_v1.py:2335: UserWarning: `Model.state_updates` will be removed in a future version. This property should not be used in TensorFlow 2.0, as `updates` are applied automatically.\n",
      "  updates = self.state_updates\n"
     ]
    },
    {
     "data": {
      "text/plain": [
       "<keras.callbacks.History at 0x7f8e59e1ee60>"
      ]
     },
     "execution_count": 47,
     "metadata": {},
     "output_type": "execute_result"
    }
   ],
   "execution_count": 47
  },
  {
   "cell_type": "code",
   "metadata": {
    "ExecuteTime": {
     "end_time": "2024-05-27T06:47:58.711780Z",
     "start_time": "2024-05-27T06:47:58.704110Z"
    }
   },
   "source": [
    "res = pd.DataFrame(model.history.history)\n",
    "res.tail(3)"
   ],
   "outputs": [
    {
     "data": {
      "text/plain": [
       "        loss       acc  val_loss   val_acc\n",
       "22  0.620499  0.670236  0.684242  0.589744\n",
       "23  0.619554  0.668094  0.684743  0.589744\n",
       "24  0.618884  0.668094  0.683770  0.589744"
      ],
      "text/html": [
       "<div>\n",
       "<style scoped>\n",
       "    .dataframe tbody tr th:only-of-type {\n",
       "        vertical-align: middle;\n",
       "    }\n",
       "\n",
       "    .dataframe tbody tr th {\n",
       "        vertical-align: top;\n",
       "    }\n",
       "\n",
       "    .dataframe thead th {\n",
       "        text-align: right;\n",
       "    }\n",
       "</style>\n",
       "<table border=\"1\" class=\"dataframe\">\n",
       "  <thead>\n",
       "    <tr style=\"text-align: right;\">\n",
       "      <th></th>\n",
       "      <th>loss</th>\n",
       "      <th>acc</th>\n",
       "      <th>val_loss</th>\n",
       "      <th>val_acc</th>\n",
       "    </tr>\n",
       "  </thead>\n",
       "  <tbody>\n",
       "    <tr>\n",
       "      <th>22</th>\n",
       "      <td>0.620499</td>\n",
       "      <td>0.670236</td>\n",
       "      <td>0.684242</td>\n",
       "      <td>0.589744</td>\n",
       "    </tr>\n",
       "    <tr>\n",
       "      <th>23</th>\n",
       "      <td>0.619554</td>\n",
       "      <td>0.668094</td>\n",
       "      <td>0.684743</td>\n",
       "      <td>0.589744</td>\n",
       "    </tr>\n",
       "    <tr>\n",
       "      <th>24</th>\n",
       "      <td>0.618884</td>\n",
       "      <td>0.668094</td>\n",
       "      <td>0.683770</td>\n",
       "      <td>0.589744</td>\n",
       "    </tr>\n",
       "  </tbody>\n",
       "</table>\n",
       "</div>"
      ]
     },
     "execution_count": 48,
     "metadata": {},
     "output_type": "execute_result"
    }
   ],
   "execution_count": 48
  },
  {
   "cell_type": "code",
   "metadata": {
    "ExecuteTime": {
     "end_time": "2024-05-27T06:48:05.780955Z",
     "start_time": "2024-05-27T06:48:05.548567Z"
    }
   },
   "source": [
    "res.plot(figsize=(10, 6), style='--');"
   ],
   "outputs": [
    {
     "data": {
      "text/plain": [
       "<Figure size 1000x600 with 1 Axes>"
      ],
      "image/png": "[encoded data removed]"
     },
     "metadata": {},
     "output_type": "display_data"
    }
   ],
   "execution_count": 49
  },
  {
   "cell_type": "code",
   "metadata": {
    "ExecuteTime": {
     "end_time": "2024-05-27T06:48:39.651711Z",
     "start_time": "2024-05-27T06:48:39.644367Z"
    }
   },
   "source": [
    "def epoch():\n",
    "    print('|', end='')\n",
    "    done = False\n",
    "    state, _ = env.reset()\n",
    "    treward = 1\n",
    "    while not done:\n",
    "        action = np.where(model.predict(np.atleast_2d(state))[0][0] > 0.5, 1, 0)\n",
    "        state, reward, done, _, _ = env.step(action)\n",
    "        treward += reward if not done else 0\n",
    "    return treward"
   ],
   "outputs": [],
   "execution_count": 54
  },
  {
   "cell_type": "code",
   "metadata": {
    "ExecuteTime": {
     "end_time": "2024-05-27T06:48:41.946611Z",
     "start_time": "2024-05-27T06:48:41.860083Z"
    }
   },
   "source": [
    "epoch()"
   ],
   "outputs": [
    {
     "name": "stdout",
     "output_type": "stream",
     "text": [
      "|"
     ]
    },
    {
     "data": {
      "text/plain": [
       "181.0"
      ]
     },
     "execution_count": 55,
     "metadata": {},
     "output_type": "execute_result"
    }
   ],
   "execution_count": 55
  },
  {
   "cell_type": "code",
   "metadata": {
    "ExecuteTime": {
     "end_time": "2024-05-27T06:48:57.958397Z",
     "start_time": "2024-05-27T06:48:43.851606Z"
    }
   },
   "source": [
    "%%time\n",
    "res = np.array([epoch() for _ in range(100)])\n",
    "print()\n",
    "res"
   ],
   "outputs": [
    {
     "name": "stdout",
     "output_type": "stream",
     "text": [
      "||||||||||||||||||||||||||||||||||||||||||||||||||||||||||||||||||||||||||||||||||||||||||||||||||||\n",
      "CPU times: user 14.9 s, sys: 1.48 s, total: 16.3 s\n",
      "Wall time: 14.1 s\n"
     ]
    },
    {
     "data": {
      "text/plain": [
       "array([ 132.,  662.,  833.,  368.,  441.,  191.,  377.,  210.,  652.,\n",
       "        506.,  288.,  418.,  366.,  638.,  383.,  826.,  464.,  148.,\n",
       "        155.,  217.,  392.,  527.,  472.,  418.,  395., 1032.,  998.,\n",
       "        539.,  301.,  363.,  370.,  626.,  260.,  250.,  870.,  505.,\n",
       "        244.,  546.,  638.,  518.,  149.,  205.,  140.,  466.,  346.,\n",
       "        170.,  160.,  532.,  191.,  622.,  231.,  399.,  443.,  142.,\n",
       "        514.,  197.,  165.,  390.,  300.,  337.,  394.,  211.,  183.,\n",
       "        441.,  430.,  208.,  253.,  392.,  322.,  310.,  193.,  470.,\n",
       "        474., 1519.,  504.,  628.,  477.,  177.,  436.,  210.,  616.,\n",
       "        616.,  163.,  328.,  179.,  152.,  143.,  202.,  156.,  140.,\n",
       "        218.,  150.,  142.,  226.,  178.,  436.,  237.,  730.,  379.,\n",
       "        167.])"
      ]
     },
     "execution_count": 56,
     "metadata": {},
     "output_type": "execute_result"
    }
   ],
   "execution_count": 56
  },
  {
   "cell_type": "code",
   "metadata": {
    "ExecuteTime": {
     "end_time": "2024-05-27T06:49:01.277234Z",
     "start_time": "2024-05-27T06:49:01.272927Z"
    }
   },
   "source": [
    "res.mean()"
   ],
   "outputs": [
    {
     "data": {
      "text/plain": [
       "384.28"
      ]
     },
     "execution_count": 57,
     "metadata": {},
     "output_type": "execute_result"
    }
   ],
   "execution_count": 57
  },
  {
   "cell_type": "markdown",
   "metadata": {},
   "source": [
    "<img src='http://hilpisch.com/taim_logo.png' width=\"350px\" align=\"right\">\n",
    "\n",
    "<br><br><br><a href=\"http://tpq.io\" target=\"_blank\">http://tpq.io</a> | <a href=\"http://twitter.com/dyjh\" target=\"_blank\">@dyjh</a> | <a href=\"mailto:ai@tpq.io\">ai@tpq.io</a>"
   ]
  }
 ],
 "metadata": {
  "kernelspec": {
   "display_name": "Python 3 (ipykernel)",
   "language": "python",
   "name": "python3"
  },
  "language_info": {
   "codemirror_mode": {
    "name": "ipython",
    "version": 3
   },
   "file_extension": ".py",
   "mimetype": "text/x-python",
   "name": "python",
   "nbconvert_exporter": "python",
   "pygments_lexer": "ipython3",
   "version": "3.8.12"
  }
 },
 "nbformat": 4,
 "nbformat_minor": 4
}
